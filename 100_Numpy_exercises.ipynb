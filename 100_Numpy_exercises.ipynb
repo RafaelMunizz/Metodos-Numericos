{
  "cells": [
    {
      "cell_type": "markdown",
      "source": [
        "#IFPB - Engenharia de computação\n",
        "##Aluno: Rafael Victor C. Muniz - 7°P"
      ],
      "metadata": {
        "id": "vHnf6R_WEUVF"
      },
      "id": "vHnf6R_WEUVF"
    },
    {
      "cell_type": "markdown",
      "id": "f44a2f2b",
      "metadata": {
        "id": "f44a2f2b"
      },
      "source": [
        "# 100 numpy exercises\n",
        "\n",
        "This is a collection of exercises that have been collected in the numpy mailing list, on stack overflow\n",
        "and in the numpy documentation. The goal of this collection is to offer a quick reference for both old\n",
        "and new users but also to provide a set of exercises for those who teach.\n"
      ]
    },
    {
      "cell_type": "markdown",
      "id": "96443564",
      "metadata": {
        "id": "96443564"
      },
      "source": [
        "#### 1. Import the numpy package under the name `np` (★☆☆)"
      ]
    },
    {
      "cell_type": "code",
      "execution_count": 1,
      "id": "ffe1047e",
      "metadata": {
        "id": "ffe1047e"
      },
      "outputs": [],
      "source": [
        "import numpy as np"
      ]
    },
    {
      "cell_type": "markdown",
      "id": "c807bf1d",
      "metadata": {
        "id": "c807bf1d"
      },
      "source": [
        "#### 2. Print the numpy version and the configuration (★☆☆)"
      ]
    },
    {
      "cell_type": "code",
      "execution_count": 2,
      "id": "f396b717",
      "metadata": {
        "id": "f396b717",
        "colab": {
          "base_uri": "https://localhost:8080/"
        },
        "outputId": "779ddb3f-7bae-4b38-d297-00b0d1c6743d"
      },
      "outputs": [
        {
          "output_type": "stream",
          "name": "stdout",
          "text": [
            "1.21.6\n",
            "blas_mkl_info:\n",
            "  NOT AVAILABLE\n",
            "blis_info:\n",
            "  NOT AVAILABLE\n",
            "openblas_info:\n",
            "    libraries = ['openblas', 'openblas']\n",
            "    library_dirs = ['/usr/local/lib']\n",
            "    language = c\n",
            "    define_macros = [('HAVE_CBLAS', None)]\n",
            "    runtime_library_dirs = ['/usr/local/lib']\n",
            "blas_opt_info:\n",
            "    libraries = ['openblas', 'openblas']\n",
            "    library_dirs = ['/usr/local/lib']\n",
            "    language = c\n",
            "    define_macros = [('HAVE_CBLAS', None)]\n",
            "    runtime_library_dirs = ['/usr/local/lib']\n",
            "lapack_mkl_info:\n",
            "  NOT AVAILABLE\n",
            "openblas_lapack_info:\n",
            "    libraries = ['openblas', 'openblas']\n",
            "    library_dirs = ['/usr/local/lib']\n",
            "    language = c\n",
            "    define_macros = [('HAVE_CBLAS', None)]\n",
            "    runtime_library_dirs = ['/usr/local/lib']\n",
            "lapack_opt_info:\n",
            "    libraries = ['openblas', 'openblas']\n",
            "    library_dirs = ['/usr/local/lib']\n",
            "    language = c\n",
            "    define_macros = [('HAVE_CBLAS', None)]\n",
            "    runtime_library_dirs = ['/usr/local/lib']\n",
            "Supported SIMD extensions in this NumPy install:\n",
            "    baseline = SSE,SSE2,SSE3\n",
            "    found = SSSE3,SSE41,POPCNT,SSE42,AVX,F16C,FMA3,AVX2\n",
            "    not found = AVX512F,AVX512CD,AVX512_KNL,AVX512_KNM,AVX512_SKX,AVX512_CLX,AVX512_CNL,AVX512_ICL\n",
            "None\n"
          ]
        }
      ],
      "source": [
        "print(np.__version__)\n",
        "print(np.show_config())"
      ]
    },
    {
      "cell_type": "markdown",
      "id": "572c1bdb",
      "metadata": {
        "id": "572c1bdb"
      },
      "source": [
        "#### 3. Create a null vector of size 10 (★☆☆)"
      ]
    },
    {
      "cell_type": "code",
      "execution_count": 3,
      "id": "31c9f6a5",
      "metadata": {
        "id": "31c9f6a5",
        "colab": {
          "base_uri": "https://localhost:8080/"
        },
        "outputId": "c415f43a-3c7e-459f-a3a8-3643cddb6e24"
      },
      "outputs": [
        {
          "output_type": "stream",
          "name": "stdout",
          "text": [
            "[0. 0. 0. 0. 0. 0. 0. 0. 0. 0.]\n"
          ]
        }
      ],
      "source": [
        "nullVector = np.zeros(10)\n",
        "print(nullVector)"
      ]
    },
    {
      "cell_type": "markdown",
      "id": "337e6e36",
      "metadata": {
        "id": "337e6e36"
      },
      "source": [
        "#### 4. How to find the memory size of any array (★☆☆)"
      ]
    },
    {
      "cell_type": "code",
      "execution_count": 4,
      "id": "31e8ec2e",
      "metadata": {
        "id": "31e8ec2e",
        "colab": {
          "base_uri": "https://localhost:8080/"
        },
        "outputId": "a2e7fbd3-175f-4ca2-9f4b-e3ff0cdf51da"
      },
      "outputs": [
        {
          "output_type": "stream",
          "name": "stdout",
          "text": [
            "32\n"
          ]
        }
      ],
      "source": [
        "array1 = np.array([9, 50, 10, 13])\n",
        "# Tamanho da memória do numpy array em bytes\n",
        "print(array1.size * array1.itemsize)"
      ]
    },
    {
      "cell_type": "markdown",
      "id": "166079c8",
      "metadata": {
        "id": "166079c8"
      },
      "source": [
        "#### 5. How to get the documentation of the numpy add function from the command line? (★☆☆)"
      ]
    },
    {
      "cell_type": "code",
      "execution_count": 5,
      "id": "593cd80f",
      "metadata": {
        "id": "593cd80f",
        "colab": {
          "base_uri": "https://localhost:8080/"
        },
        "outputId": "4d0f24a2-7e42-4dba-a1b0-56e022051e03"
      },
      "outputs": [
        {
          "output_type": "stream",
          "name": "stdout",
          "text": [
            "add(x1, x2, /, out=None, *, where=True, casting='same_kind', order='K', dtype=None, subok=True[, signature, extobj])\n",
            "\n",
            "Add arguments element-wise.\n",
            "\n",
            "Parameters\n",
            "----------\n",
            "x1, x2 : array_like\n",
            "    The arrays to be added.\n",
            "    If ``x1.shape != x2.shape``, they must be broadcastable to a common\n",
            "    shape (which becomes the shape of the output).\n",
            "out : ndarray, None, or tuple of ndarray and None, optional\n",
            "    A location into which the result is stored. If provided, it must have\n",
            "    a shape that the inputs broadcast to. If not provided or None,\n",
            "    a freshly-allocated array is returned. A tuple (possible only as a\n",
            "    keyword argument) must have length equal to the number of outputs.\n",
            "where : array_like, optional\n",
            "    This condition is broadcast over the input. At locations where the\n",
            "    condition is True, the `out` array will be set to the ufunc result.\n",
            "    Elsewhere, the `out` array will retain its original value.\n",
            "    Note that if an uninitialized `out` array is created via the default\n",
            "    ``out=None``, locations within it where the condition is False will\n",
            "    remain uninitialized.\n",
            "**kwargs\n",
            "    For other keyword-only arguments, see the\n",
            "    :ref:`ufunc docs <ufuncs.kwargs>`.\n",
            "\n",
            "Returns\n",
            "-------\n",
            "add : ndarray or scalar\n",
            "    The sum of `x1` and `x2`, element-wise.\n",
            "    This is a scalar if both `x1` and `x2` are scalars.\n",
            "\n",
            "Notes\n",
            "-----\n",
            "Equivalent to `x1` + `x2` in terms of array broadcasting.\n",
            "\n",
            "Examples\n",
            "--------\n",
            ">>> np.add(1.0, 4.0)\n",
            "5.0\n",
            ">>> x1 = np.arange(9.0).reshape((3, 3))\n",
            ">>> x2 = np.arange(3.0)\n",
            ">>> np.add(x1, x2)\n",
            "array([[  0.,   2.,   4.],\n",
            "       [  3.,   5.,   7.],\n",
            "       [  6.,   8.,  10.]])\n",
            "\n",
            "The ``+`` operator can be used as a shorthand for ``np.add`` on ndarrays.\n",
            "\n",
            ">>> x1 = np.arange(9.0).reshape((3, 3))\n",
            ">>> x2 = np.arange(3.0)\n",
            ">>> x1 + x2\n",
            "array([[ 0.,  2.,  4.],\n",
            "       [ 3.,  5.,  7.],\n",
            "       [ 6.,  8., 10.]])\n",
            "None\n"
          ]
        }
      ],
      "source": [
        "print(np.info(np.add))"
      ]
    },
    {
      "cell_type": "markdown",
      "id": "3add7101",
      "metadata": {
        "id": "3add7101"
      },
      "source": [
        "#### 6. Create a null vector of size 10 but the fifth value which is 1 (★☆☆)"
      ]
    },
    {
      "cell_type": "code",
      "execution_count": 6,
      "id": "2edf3c42",
      "metadata": {
        "colab": {
          "base_uri": "https://localhost:8080/"
        },
        "id": "2edf3c42",
        "outputId": "bf71f789-da10-40b6-aad9-ccb765764a4f"
      },
      "outputs": [
        {
          "output_type": "execute_result",
          "data": {
            "text/plain": [
              "array([0., 0., 0., 0., 1., 0., 0., 0., 0., 0.])"
            ]
          },
          "metadata": {},
          "execution_count": 6
        }
      ],
      "source": [
        "nullVector = np.zeros(10)\n",
        "nullVector[4] = 1\n",
        "nullVector"
      ]
    },
    {
      "cell_type": "markdown",
      "id": "cfc46304",
      "metadata": {
        "id": "cfc46304"
      },
      "source": [
        "#### 7. Create a vector with values ranging from 10 to 49 (★☆☆)"
      ]
    },
    {
      "cell_type": "code",
      "execution_count": 7,
      "id": "d8b86640",
      "metadata": {
        "id": "d8b86640",
        "colab": {
          "base_uri": "https://localhost:8080/"
        },
        "outputId": "a08ee989-ee66-4475-942d-4076a55c32ba"
      },
      "outputs": [
        {
          "output_type": "stream",
          "name": "stdout",
          "text": [
            "[10 11 12 13 14 15 16 17 18 19 20 21 22 23 24 25 26 27 28 29 30 31 32 33\n",
            " 34 35 36 37 38 39 40 41 42 43 44 45 46 47 48 49]\n"
          ]
        }
      ],
      "source": [
        "print(np.arange(10,50))"
      ]
    },
    {
      "cell_type": "markdown",
      "id": "0cc200be",
      "metadata": {
        "id": "0cc200be"
      },
      "source": [
        "#### 8. Reverse a vector (first element becomes last) (★☆☆)"
      ]
    },
    {
      "cell_type": "code",
      "execution_count": 8,
      "id": "ec044bb5",
      "metadata": {
        "id": "ec044bb5",
        "colab": {
          "base_uri": "https://localhost:8080/"
        },
        "outputId": "3c79f9c4-d1c8-490e-a73b-5574f967cb7b"
      },
      "outputs": [
        {
          "output_type": "stream",
          "name": "stdout",
          "text": [
            "Antes: [0 1 2 3 4 5 6 7 8 9]\n",
            "Depois: [9 8 7 6 5 4 3 2 1 0]\n"
          ]
        }
      ],
      "source": [
        "vector = np.arange(10)\n",
        "print(\"Antes:\", vector)\n",
        "vector = np.flip(vector)\n",
        "print(\"Depois:\", vector)"
      ]
    },
    {
      "cell_type": "markdown",
      "id": "29d9ede4",
      "metadata": {
        "id": "29d9ede4"
      },
      "source": [
        "#### 9. Create a 3x3 matrix with values ranging from 0 to 8 (★☆☆)"
      ]
    },
    {
      "cell_type": "code",
      "execution_count": 9,
      "id": "d9e39043",
      "metadata": {
        "id": "d9e39043",
        "colab": {
          "base_uri": "https://localhost:8080/"
        },
        "outputId": "1b5f384e-d6b6-4994-807c-79d5e28544f7"
      },
      "outputs": [
        {
          "output_type": "execute_result",
          "data": {
            "text/plain": [
              "array([[0, 1, 2],\n",
              "       [3, 4, 5],\n",
              "       [6, 7, 8]])"
            ]
          },
          "metadata": {},
          "execution_count": 9
        }
      ],
      "source": [
        "matriz = np.arange(9).reshape(3,3)\n",
        "matriz"
      ]
    },
    {
      "cell_type": "markdown",
      "id": "88905ceb",
      "metadata": {
        "id": "88905ceb"
      },
      "source": [
        "#### 10. Find indices of non-zero elements from [1,2,0,0,4,0] (★☆☆)"
      ]
    },
    {
      "cell_type": "code",
      "execution_count": 10,
      "id": "b2f3c90a",
      "metadata": {
        "id": "b2f3c90a",
        "colab": {
          "base_uri": "https://localhost:8080/"
        },
        "outputId": "63e6bd8a-d5ba-4272-d536-724feac13326"
      },
      "outputs": [
        {
          "output_type": "stream",
          "name": "stdout",
          "text": [
            "(array([0, 1, 4]),)\n"
          ]
        }
      ],
      "source": [
        "print(np.nonzero([1,2,0,0,4,0]))"
      ]
    },
    {
      "cell_type": "markdown",
      "id": "49603e91",
      "metadata": {
        "id": "49603e91"
      },
      "source": [
        "#### 11. Create a 3x3 identity matrix (★☆☆)"
      ]
    },
    {
      "cell_type": "code",
      "execution_count": 11,
      "id": "5b607b5c",
      "metadata": {
        "id": "5b607b5c",
        "colab": {
          "base_uri": "https://localhost:8080/"
        },
        "outputId": "b325d266-cf81-42c8-99cd-1b17e618acba"
      },
      "outputs": [
        {
          "output_type": "stream",
          "name": "stdout",
          "text": [
            "[[1. 0. 0.]\n",
            " [0. 1. 0.]\n",
            " [0. 0. 1.]]\n"
          ]
        }
      ],
      "source": [
        "print(np.eye(3))"
      ]
    },
    {
      "cell_type": "markdown",
      "id": "e15c249a",
      "metadata": {
        "id": "e15c249a"
      },
      "source": [
        "#### 12. Create a 3x3x3 array with random values (★☆☆)"
      ]
    },
    {
      "cell_type": "code",
      "execution_count": 12,
      "id": "ab21ed50",
      "metadata": {
        "id": "ab21ed50",
        "colab": {
          "base_uri": "https://localhost:8080/"
        },
        "outputId": "9251568c-6712-4605-8f72-8041852295b1"
      },
      "outputs": [
        {
          "output_type": "stream",
          "name": "stdout",
          "text": [
            "[[[0.75492899 0.08927393 0.42280882]\n",
            "  [0.28261838 0.10428875 0.85444165]\n",
            "  [0.13377053 0.30177853 0.14115046]]\n",
            "\n",
            " [[0.98529345 0.90934031 0.44353142]\n",
            "  [0.98060425 0.2686837  0.52610687]\n",
            "  [0.30883206 0.00683656 0.85019116]]\n",
            "\n",
            " [[0.61432061 0.52347796 0.95111606]\n",
            "  [0.11988467 0.56839726 0.56818266]\n",
            "  [0.55010804 0.27446862 0.51240431]]]\n"
          ]
        }
      ],
      "source": [
        "print(np.random.random((3, 3, 3)))"
      ]
    },
    {
      "cell_type": "markdown",
      "id": "157a129c",
      "metadata": {
        "id": "157a129c"
      },
      "source": [
        "#### 13. Create a 10x10 array with random values and find the minimum and maximum values (★☆☆)"
      ]
    },
    {
      "cell_type": "code",
      "execution_count": 13,
      "id": "c0066de5",
      "metadata": {
        "id": "c0066de5",
        "colab": {
          "base_uri": "https://localhost:8080/"
        },
        "outputId": "2e4a222d-4af5-47d9-8778-88ebc42de19d"
      },
      "outputs": [
        {
          "output_type": "stream",
          "name": "stdout",
          "text": [
            "[[7.89614201e-01 8.83599247e-01 7.36707056e-01 6.24553457e-01\n",
            "  3.93714632e-01 3.04667121e-01 5.82153653e-01 9.21839729e-01\n",
            "  6.57088547e-02 6.82603025e-01]\n",
            " [9.34870737e-01 6.44254807e-01 8.75695470e-02 6.83385736e-01\n",
            "  6.08899855e-01 5.93733809e-01 3.10213307e-01 7.12938413e-01\n",
            "  2.08629042e-01 9.68669749e-01]\n",
            " [7.11954746e-02 5.67190619e-01 1.69683400e-01 8.76756184e-01\n",
            "  5.89083848e-01 5.02052585e-01 8.40076741e-01 5.23143742e-01\n",
            "  2.92740299e-01 4.99203190e-01]\n",
            " [7.89627314e-01 7.13761887e-01 2.52679059e-01 9.02538441e-01\n",
            "  1.13968304e-01 8.06883425e-01 2.11128102e-01 3.21462317e-01\n",
            "  8.41170503e-01 4.97274547e-01]\n",
            " [2.15085877e-02 1.26944152e-01 9.10188033e-01 8.31335331e-01\n",
            "  9.85179418e-01 6.83917433e-01 1.40045874e-02 1.59366177e-01\n",
            "  2.10136369e-01 3.14329860e-01]\n",
            " [6.45096913e-01 3.48370472e-01 4.97838218e-01 1.99195078e-01\n",
            "  9.23805515e-01 1.22332197e-01 6.51503374e-02 5.57911053e-01\n",
            "  6.54224249e-01 4.70736570e-01]\n",
            " [6.74983895e-01 3.74143913e-01 9.21990977e-01 9.73445923e-04\n",
            "  5.55638021e-01 1.20318436e-01 4.98217091e-01 6.21942081e-01\n",
            "  7.49895994e-01 5.41354737e-01]\n",
            " [9.82904206e-01 8.59725990e-01 2.06265738e-01 7.85242574e-01\n",
            "  6.12713439e-01 7.24881928e-01 9.41399342e-01 5.64706608e-01\n",
            "  1.80855837e-01 2.39878128e-01]\n",
            " [5.00123150e-01 3.73515753e-01 5.95681618e-01 5.92974463e-01\n",
            "  1.21050608e-01 7.91180109e-01 2.22843855e-01 6.87866994e-01\n",
            "  2.57199151e-02 2.43920129e-01]\n",
            " [6.30502498e-01 1.53580460e-01 8.25425177e-01 1.53108916e-01\n",
            "  1.58599397e-01 1.39588747e-01 8.03457336e-01 5.58408744e-01\n",
            "  1.82133554e-01 3.54108033e-02]]\n",
            "0.0009734459228162295\n",
            "0.9851794175702447\n"
          ]
        }
      ],
      "source": [
        "array = np.random.random((10,10))\n",
        "arrayMin, arrayMax = array.min(), array.max()\n",
        "print(array)\n",
        "print(arrayMin)\n",
        "print(arrayMax)"
      ]
    },
    {
      "cell_type": "markdown",
      "id": "d92d7b32",
      "metadata": {
        "id": "d92d7b32"
      },
      "source": [
        "#### 14. Create a random vector of size 30 and find the mean value (★☆☆)"
      ]
    },
    {
      "cell_type": "code",
      "execution_count": 14,
      "id": "9672d023",
      "metadata": {
        "id": "9672d023",
        "colab": {
          "base_uri": "https://localhost:8080/"
        },
        "outputId": "898f5ae6-4062-4eb6-f101-b6efb834ad77"
      },
      "outputs": [
        {
          "output_type": "stream",
          "name": "stdout",
          "text": [
            "[7.70531001e-04 2.81354477e-02 3.29500740e-02 4.07045643e-02\n",
            " 5.65626606e-02 6.60249046e-02 6.62546863e-02 6.72803565e-02\n",
            " 7.34378218e-02 7.45905437e-02 8.34068219e-02 8.63687374e-02\n",
            " 8.98657487e-02 9.29359980e-02 1.02114152e-01 1.11372647e-01\n",
            " 1.13432234e-01 1.15631055e-01 1.23501477e-01 1.33034255e-01\n",
            " 1.35859567e-01 1.37130346e-01 1.38895115e-01 1.55650995e-01\n",
            " 1.68063670e-01 1.68411305e-01 2.11293268e-01 2.20066309e-01\n",
            " 2.42033603e-01 2.46288248e-01 2.47194467e-01 2.68719595e-01\n",
            " 2.74014229e-01 2.96317962e-01 2.99655524e-01 3.04704579e-01\n",
            " 3.22365374e-01 3.28229013e-01 3.32124406e-01 3.46940995e-01\n",
            " 3.49244540e-01 3.55623215e-01 3.70513362e-01 3.75261911e-01\n",
            " 4.37466517e-01 4.45718082e-01 4.51992406e-01 4.76724765e-01\n",
            " 4.89391808e-01 4.92503655e-01 5.21968389e-01 5.24512114e-01\n",
            " 5.24987033e-01 5.35365279e-01 5.45280185e-01 5.51932306e-01\n",
            " 5.57926164e-01 5.59622726e-01 5.68033343e-01 5.68231783e-01\n",
            " 5.90607844e-01 6.22269766e-01 6.22462749e-01 6.62628681e-01\n",
            " 6.75814246e-01 6.76726175e-01 6.83514918e-01 6.85915308e-01\n",
            " 6.91857646e-01 7.04499897e-01 7.24602889e-01 7.29047861e-01\n",
            " 7.29589932e-01 7.30329620e-01 7.38543757e-01 7.44366081e-01\n",
            " 7.46486991e-01 7.49927856e-01 7.53871925e-01 7.67216883e-01\n",
            " 7.79397511e-01 7.91754777e-01 8.03818670e-01 8.33269838e-01\n",
            " 8.47296023e-01 8.54398516e-01 8.73546107e-01 8.79949648e-01\n",
            " 8.80640773e-01 8.97968399e-01 9.03515703e-01 9.07942835e-01\n",
            " 9.46359837e-01 9.63244415e-01 9.76222779e-01 9.78592764e-01\n",
            " 9.81814699e-01 9.90148614e-01 9.98678772e-01 9.99979279e-01]\n",
            "0.4822345385281559\n"
          ]
        }
      ],
      "source": [
        "array = np.random.random(100)\n",
        "array.sort()\n",
        "print(array)\n",
        "print(array.mean())"
      ]
    },
    {
      "cell_type": "markdown",
      "id": "f361efc0",
      "metadata": {
        "id": "f361efc0"
      },
      "source": [
        "#### 15. Create a 2d array with 1 on the border and 0 inside (★☆☆)"
      ]
    },
    {
      "cell_type": "code",
      "execution_count": 15,
      "id": "a55b6666",
      "metadata": {
        "id": "a55b6666",
        "colab": {
          "base_uri": "https://localhost:8080/"
        },
        "outputId": "a245d183-a6c3-4529-ebbc-89201d92e40a"
      },
      "outputs": [
        {
          "output_type": "stream",
          "name": "stdout",
          "text": [
            "Antes:\n",
            " [[1. 1. 1. 1. 1.]\n",
            " [1. 1. 1. 1. 1.]\n",
            " [1. 1. 1. 1. 1.]\n",
            " [1. 1. 1. 1. 1.]\n",
            " [1. 1. 1. 1. 1.]]\n",
            "Depois:\n",
            " [[1. 1. 1. 1. 1.]\n",
            " [1. 0. 0. 0. 1.]\n",
            " [1. 0. 0. 0. 1.]\n",
            " [1. 0. 0. 0. 1.]\n",
            " [1. 1. 1. 1. 1.]]\n"
          ]
        }
      ],
      "source": [
        "array = np.ones((5,5))\n",
        "print(\"Antes:\\n\", array)\n",
        "array[1:-1,1:-1] = 0\n",
        "print(\"Depois:\\n\", array)"
      ]
    },
    {
      "cell_type": "markdown",
      "id": "475808cb",
      "metadata": {
        "id": "475808cb"
      },
      "source": [
        "#### 16. How to add a border (filled with 0's) around an existing array? (★☆☆)"
      ]
    },
    {
      "cell_type": "code",
      "execution_count": 16,
      "id": "b2df3a8a",
      "metadata": {
        "id": "b2df3a8a",
        "colab": {
          "base_uri": "https://localhost:8080/"
        },
        "outputId": "db74517c-2a54-4072-966b-c90aa762bab7"
      },
      "outputs": [
        {
          "output_type": "stream",
          "name": "stdout",
          "text": [
            "Antes:\n",
            " [[ 0  1  2  3  4]\n",
            " [ 5  6  7  8  9]\n",
            " [10 11 12 13 14]\n",
            " [15 16 17 18 19]\n",
            " [20 21 22 23 24]]\n",
            "Depois:\n",
            " [[ 0  0  0  0  0  0  0]\n",
            " [ 0  0  1  2  3  4  0]\n",
            " [ 0  5  6  7  8  9  0]\n",
            " [ 0 10 11 12 13 14  0]\n",
            " [ 0 15 16 17 18 19  0]\n",
            " [ 0 20 21 22 23 24  0]\n",
            " [ 0  0  0  0  0  0  0]]\n"
          ]
        }
      ],
      "source": [
        "array = np.arange(25).reshape(5,5)\n",
        "print(\"Antes:\\n\", array)\n",
        "array = np.pad(array, pad_width=1, mode='constant', constant_values=0)\n",
        "print(\"Depois:\\n\", array)"
      ]
    },
    {
      "cell_type": "markdown",
      "id": "1af07d85",
      "metadata": {
        "id": "1af07d85"
      },
      "source": [
        "#### 17. What is the result of the following expression? (★☆☆)\n",
        "```python\n",
        "0 * np.nan\n",
        "np.nan == np.nan\n",
        "np.inf > np.nan\n",
        "np.nan - np.nan\n",
        "np.nan in set([np.nan])\n",
        "0.3 == 3 * 0.1\n",
        "```"
      ]
    },
    {
      "cell_type": "code",
      "execution_count": 17,
      "id": "109cf327",
      "metadata": {
        "id": "109cf327",
        "colab": {
          "base_uri": "https://localhost:8080/"
        },
        "outputId": "1fb1004b-ada6-4536-d4a0-95c2fb0c1877"
      },
      "outputs": [
        {
          "output_type": "stream",
          "name": "stdout",
          "text": [
            "nan\n",
            "False\n",
            "False\n",
            "nan\n",
            "True\n",
            "False\n"
          ]
        }
      ],
      "source": [
        "print(0 * np.nan)\n",
        "print(np.nan == np.nan)\n",
        "print(np.inf > np.nan)\n",
        "print(np.nan - np.nan)\n",
        "print(np.nan in set([np.nan]))\n",
        "print(0.3 == 3 * 0.1)"
      ]
    },
    {
      "cell_type": "markdown",
      "id": "6a235316",
      "metadata": {
        "id": "6a235316"
      },
      "source": [
        "#### 18. Create a 5x5 matrix with values 1,2,3,4 just below the diagonal (★☆☆)"
      ]
    },
    {
      "cell_type": "code",
      "execution_count": 18,
      "id": "f2e6cfa6",
      "metadata": {
        "id": "f2e6cfa6",
        "colab": {
          "base_uri": "https://localhost:8080/"
        },
        "outputId": "f9ae621a-a8e5-4513-9100-a4ec712df421"
      },
      "outputs": [
        {
          "output_type": "stream",
          "name": "stdout",
          "text": [
            "[[1 0 0 0 0]\n",
            " [0 2 0 0 0]\n",
            " [0 0 3 0 0]\n",
            " [0 0 0 4 0]\n",
            " [0 0 0 0 5]]\n"
          ]
        }
      ],
      "source": [
        "array = np.diag([1, 2, 3, 4, 5])\n",
        "print(array)"
      ]
    },
    {
      "cell_type": "markdown",
      "id": "25362e98",
      "metadata": {
        "id": "25362e98"
      },
      "source": [
        "#### 19. Create a 8x8 matrix and fill it with a checkerboard pattern (★☆☆)"
      ]
    },
    {
      "cell_type": "code",
      "execution_count": 19,
      "id": "cabdf298",
      "metadata": {
        "id": "cabdf298",
        "colab": {
          "base_uri": "https://localhost:8080/"
        },
        "outputId": "fc0e427a-737d-4c62-fe96-4f9e0c371656"
      },
      "outputs": [
        {
          "output_type": "stream",
          "name": "stdout",
          "text": [
            "[[0 1 0 1 0 1 0 1]\n",
            " [1 0 1 0 1 0 1 0]\n",
            " [0 1 0 1 0 1 0 1]\n",
            " [1 0 1 0 1 0 1 0]\n",
            " [0 1 0 1 0 1 0 1]\n",
            " [1 0 1 0 1 0 1 0]\n",
            " [0 1 0 1 0 1 0 1]\n",
            " [1 0 1 0 1 0 1 0]]\n"
          ]
        }
      ],
      "source": [
        "array = np.ones((3,3))\n",
        "array = np.zeros((8,8),dtype=int)\n",
        "array[1::2,::2] = 1\n",
        "array[::2,1::2] = 1\n",
        "print(array)"
      ]
    },
    {
      "cell_type": "markdown",
      "id": "6431e977",
      "metadata": {
        "id": "6431e977"
      },
      "source": [
        "#### 20. Consider a (6,7,8) shape array, what is the index (x,y,z) of the 100th element? (★☆☆)"
      ]
    },
    {
      "cell_type": "code",
      "execution_count": 20,
      "id": "de8b0245",
      "metadata": {
        "id": "de8b0245",
        "colab": {
          "base_uri": "https://localhost:8080/"
        },
        "outputId": "4d79d96e-573d-4f4e-efa9-c2de0f22a2fd"
      },
      "outputs": [
        {
          "output_type": "stream",
          "name": "stdout",
          "text": [
            "(1, 5, 3)\n"
          ]
        }
      ],
      "source": [
        "print(np.unravel_index(99,(6,7,8)))"
      ]
    },
    {
      "cell_type": "markdown",
      "id": "31abe6fe",
      "metadata": {
        "id": "31abe6fe"
      },
      "source": [
        "#### 21. Create a checkerboard 8x8 matrix using the tile function (★☆☆)"
      ]
    },
    {
      "cell_type": "code",
      "execution_count": 21,
      "id": "6da26fd3",
      "metadata": {
        "id": "6da26fd3",
        "colab": {
          "base_uri": "https://localhost:8080/"
        },
        "outputId": "f19adff6-080a-4dd3-f851-678e2570b99f"
      },
      "outputs": [
        {
          "output_type": "stream",
          "name": "stdout",
          "text": [
            "[[0 1 0 1 0 1 0 1]\n",
            " [1 0 1 0 1 0 1 0]\n",
            " [0 1 0 1 0 1 0 1]\n",
            " [1 0 1 0 1 0 1 0]\n",
            " [0 1 0 1 0 1 0 1]\n",
            " [1 0 1 0 1 0 1 0]\n",
            " [0 1 0 1 0 1 0 1]\n",
            " [1 0 1 0 1 0 1 0]]\n"
          ]
        }
      ],
      "source": [
        "array = np.tile(np.array([[0,1],[1,0]]), (4,4))\n",
        "print(array)"
      ]
    },
    {
      "cell_type": "markdown",
      "id": "fd88b3f4",
      "metadata": {
        "id": "fd88b3f4"
      },
      "source": [
        "#### 22. Normalize a 5x5 random matrix (★☆☆)"
      ]
    },
    {
      "cell_type": "code",
      "execution_count": 22,
      "id": "ee6ced60",
      "metadata": {
        "id": "ee6ced60",
        "colab": {
          "base_uri": "https://localhost:8080/"
        },
        "outputId": "57e372bf-d6f8-428f-98ca-ca2d6f1b9e16"
      },
      "outputs": [
        {
          "output_type": "stream",
          "name": "stdout",
          "text": [
            "[[ 1.00509192 -1.17132683  1.59243846  1.40103109 -1.5391085 ]\n",
            " [ 1.63473157 -0.30232846 -1.23668403  0.65155789 -0.79005079]\n",
            " [ 0.37343521  0.75927353 -0.60110255 -1.59399771 -0.35582674]\n",
            " [-1.24893273 -1.13235627  0.68739331 -0.10873801  0.18138847]\n",
            " [ 0.53288778 -0.88360978  0.03307258  0.98983201  1.12192855]]\n"
          ]
        }
      ],
      "source": [
        "array = np.random.random((5,5))\n",
        "array = (array - np.mean (array)) / (np.std (array))\n",
        "print(array)"
      ]
    },
    {
      "cell_type": "markdown",
      "id": "464d8590",
      "metadata": {
        "id": "464d8590"
      },
      "source": [
        "#### 23. Create a custom dtype that describes a color as four unsigned bytes (RGBA) (★☆☆)"
      ]
    },
    {
      "cell_type": "code",
      "execution_count": 23,
      "id": "e2f9cfc6",
      "metadata": {
        "id": "e2f9cfc6",
        "colab": {
          "base_uri": "https://localhost:8080/"
        },
        "outputId": "88c12d7b-3276-48da-b2f2-4f513a9e0dd7"
      },
      "outputs": [
        {
          "output_type": "execute_result",
          "data": {
            "text/plain": [
              "dtype([('r', 'u1'), ('g', 'u1'), ('b', 'u1'), ('a', 'u1')])"
            ]
          },
          "metadata": {},
          "execution_count": 23
        }
      ],
      "source": [
        "color = np.dtype([(\"r\", np.ubyte),\n",
        "                  (\"g\", np.ubyte),\n",
        "                  (\"b\", np.ubyte),\n",
        "                  (\"a\", np.ubyte)])\n",
        "color"
      ]
    },
    {
      "cell_type": "markdown",
      "id": "06c63bb3",
      "metadata": {
        "id": "06c63bb3"
      },
      "source": [
        "#### 24. Multiply a 5x3 matrix by a 3x2 matrix (real matrix product) (★☆☆)"
      ]
    },
    {
      "cell_type": "code",
      "execution_count": 24,
      "id": "9fc0d553",
      "metadata": {
        "id": "9fc0d553",
        "colab": {
          "base_uri": "https://localhost:8080/"
        },
        "outputId": "fe25cfb3-9015-4e1a-fe1e-5f85a2390ed7"
      },
      "outputs": [
        {
          "output_type": "stream",
          "name": "stdout",
          "text": [
            "[[3. 3.]\n",
            " [3. 3.]\n",
            " [3. 3.]\n",
            " [3. 3.]\n",
            " [3. 3.]]\n"
          ]
        }
      ],
      "source": [
        "array = np.dot(np.ones((5,3)), np.ones((3,2)))\n",
        "print(array)"
      ]
    },
    {
      "cell_type": "markdown",
      "id": "76fa6285",
      "metadata": {
        "id": "76fa6285"
      },
      "source": [
        "#### 25. Given a 1D array, negate all elements which are between 3 and 8, in place. (★☆☆)"
      ]
    },
    {
      "cell_type": "code",
      "execution_count": 25,
      "id": "0e25eca7",
      "metadata": {
        "id": "0e25eca7",
        "colab": {
          "base_uri": "https://localhost:8080/"
        },
        "outputId": "66e4f114-6d6b-4d49-a1f3-9a3c73bbe1fc"
      },
      "outputs": [
        {
          "output_type": "stream",
          "name": "stdout",
          "text": [
            "[ 0  1  2  3 -4 -5 -6 -7  8  9 10]\n"
          ]
        }
      ],
      "source": [
        "array = np.arange(11)\n",
        "array[(3 < array) & (array < 8)] *= -1\n",
        "print(array)"
      ]
    },
    {
      "cell_type": "markdown",
      "id": "930ed8bb",
      "metadata": {
        "id": "930ed8bb"
      },
      "source": [
        "#### 26. What is the output of the following script? (★☆☆)\n",
        "```python\n",
        "# Author: Jake VanderPlas\n",
        "\n",
        "print(sum(range(5),-1))\n",
        "from numpy import *\n",
        "print(sum(range(5),-1))\n",
        "```"
      ]
    },
    {
      "cell_type": "code",
      "execution_count": 26,
      "id": "f02eedba",
      "metadata": {
        "id": "f02eedba",
        "colab": {
          "base_uri": "https://localhost:8080/"
        },
        "outputId": "2a69209d-0840-431a-c133-0bc15b2834b9"
      },
      "outputs": [
        {
          "output_type": "stream",
          "name": "stdout",
          "text": [
            "9\n",
            "10\n"
          ]
        }
      ],
      "source": [
        "print(sum(range(5),-1))\n",
        "from numpy import *\n",
        "print(sum(range(5),-1))"
      ]
    },
    {
      "cell_type": "markdown",
      "id": "177120e7",
      "metadata": {
        "id": "177120e7"
      },
      "source": [
        "#### 27. Consider an integer vector Z, which of these expressions are legal? (★☆☆)\n",
        "```python\n",
        "Z**Z\n",
        "2 << Z >> 2\n",
        "Z <- Z\n",
        "1j*Z\n",
        "Z/1/1\n",
        "Z<Z>Z\n",
        "```"
      ]
    },
    {
      "cell_type": "code",
      "source": [
        "# Vetor de inteiros\n",
        "Z = [1,2,3]"
      ],
      "metadata": {
        "id": "2dKWfJn3797N"
      },
      "id": "2dKWfJn3797N",
      "execution_count": 27,
      "outputs": []
    },
    {
      "cell_type": "code",
      "execution_count": 28,
      "id": "86d6cbef",
      "metadata": {
        "id": "86d6cbef",
        "colab": {
          "base_uri": "https://localhost:8080/"
        },
        "outputId": "2596ce82-8cd1-4a22-a6aa-a0c039a045d4"
      },
      "outputs": [
        {
          "output_type": "stream",
          "name": "stdout",
          "text": [
            "Operação ilegal!\n"
          ]
        }
      ],
      "source": [
        "try:\n",
        "  print(\"Operação legal! Resultado = {}\".format(Z**Z))\n",
        "except:\n",
        "  print(\"Operação ilegal!\")"
      ]
    },
    {
      "cell_type": "code",
      "source": [
        "try:\n",
        "  print(\"Operação legal! Resultado = {}\".format(2 << Z >> 2))\n",
        "except:\n",
        "  print(\"Operação ilegal!\")"
      ],
      "metadata": {
        "colab": {
          "base_uri": "https://localhost:8080/"
        },
        "id": "6G7q8Vub8h4v",
        "outputId": "38b3e1a8-72ab-4894-df0c-dcc34e82fb8f"
      },
      "id": "6G7q8Vub8h4v",
      "execution_count": 29,
      "outputs": [
        {
          "output_type": "stream",
          "name": "stdout",
          "text": [
            "Operação ilegal!\n"
          ]
        }
      ]
    },
    {
      "cell_type": "code",
      "source": [
        "try:\n",
        "  print(\"Operação legal! Resultado = {}\".format(Z <- Z))\n",
        "except:\n",
        "  print(\"Operação ilegal!\")"
      ],
      "metadata": {
        "colab": {
          "base_uri": "https://localhost:8080/"
        },
        "id": "AdWjzNHd8hzp",
        "outputId": "b2e08cb6-b80d-4302-9bf8-73a6e24e3f0e"
      },
      "id": "AdWjzNHd8hzp",
      "execution_count": 30,
      "outputs": [
        {
          "output_type": "stream",
          "name": "stdout",
          "text": [
            "Operação ilegal!\n"
          ]
        }
      ]
    },
    {
      "cell_type": "code",
      "source": [
        "try:\n",
        "  print(\"Operação legal! Resultado = {}\".format(1j*Z))\n",
        "except:\n",
        "  print(\"Operação ilegal!\")"
      ],
      "metadata": {
        "colab": {
          "base_uri": "https://localhost:8080/"
        },
        "id": "7uthklEF8hfU",
        "outputId": "9bab4d74-8722-4be4-8cfc-108256779141"
      },
      "id": "7uthklEF8hfU",
      "execution_count": 31,
      "outputs": [
        {
          "output_type": "stream",
          "name": "stdout",
          "text": [
            "Operação ilegal!\n"
          ]
        }
      ]
    },
    {
      "cell_type": "code",
      "source": [
        "try:\n",
        "  print(\"Operação legal! Resultado = {}\".format(Z/1/1))\n",
        "except:\n",
        "  print(\"Operação ilegal!\")"
      ],
      "metadata": {
        "colab": {
          "base_uri": "https://localhost:8080/"
        },
        "id": "-AFAof_W8hUY",
        "outputId": "9a50cb73-9ad1-4d3c-a8f8-0a57f06c8f14"
      },
      "id": "-AFAof_W8hUY",
      "execution_count": 32,
      "outputs": [
        {
          "output_type": "stream",
          "name": "stdout",
          "text": [
            "Operação ilegal!\n"
          ]
        }
      ]
    },
    {
      "cell_type": "code",
      "source": [
        "try:\n",
        "  print(\"Operação legal! Resultado = {}\".format(Z<Z>Z))\n",
        "except:\n",
        "  print(\"Operação ilegal!\")"
      ],
      "metadata": {
        "colab": {
          "base_uri": "https://localhost:8080/"
        },
        "id": "aFFg4qwk8hDB",
        "outputId": "d59a1a7d-d321-408f-ed22-a04ec4ec483b"
      },
      "id": "aFFg4qwk8hDB",
      "execution_count": 33,
      "outputs": [
        {
          "output_type": "stream",
          "name": "stdout",
          "text": [
            "Operação legal! Resultado = False\n"
          ]
        }
      ]
    },
    {
      "cell_type": "markdown",
      "id": "a6eaf0e8",
      "metadata": {
        "id": "a6eaf0e8"
      },
      "source": [
        "#### 28. What are the result of the following expressions? (★☆☆)\n",
        "```python\n",
        "np.array(0) / np.array(0)\n",
        "np.array(0) // np.array(0)\n",
        "np.array([np.nan]).astype(int).astype(float)\n",
        "```"
      ]
    },
    {
      "cell_type": "code",
      "execution_count": 34,
      "id": "93684068",
      "metadata": {
        "id": "93684068",
        "colab": {
          "base_uri": "https://localhost:8080/"
        },
        "outputId": "8e53ff53-ce96-4064-ba1c-524de7ee29a5"
      },
      "outputs": [
        {
          "output_type": "stream",
          "name": "stdout",
          "text": [
            "nan\n",
            "0\n",
            "[-9.22337204e+18]\n"
          ]
        },
        {
          "output_type": "stream",
          "name": "stderr",
          "text": [
            "/usr/local/lib/python3.7/dist-packages/ipykernel_launcher.py:1: RuntimeWarning: invalid value encountered in true_divide\n",
            "  \"\"\"Entry point for launching an IPython kernel.\n",
            "/usr/local/lib/python3.7/dist-packages/ipykernel_launcher.py:2: RuntimeWarning: divide by zero encountered in floor_divide\n",
            "  \n"
          ]
        }
      ],
      "source": [
        "print(np.array(0) / np.array(0))\n",
        "print(np.array(0) // np.array(0))\n",
        "print(np.array([np.nan]).astype(int).astype(float))"
      ]
    },
    {
      "cell_type": "markdown",
      "id": "524b65f8",
      "metadata": {
        "id": "524b65f8"
      },
      "source": [
        "#### 29. How to round away from zero a float array ? (★☆☆)"
      ]
    },
    {
      "cell_type": "code",
      "execution_count": 35,
      "id": "61fbb78e",
      "metadata": {
        "id": "61fbb78e",
        "colab": {
          "base_uri": "https://localhost:8080/"
        },
        "outputId": "856085f0-5d70-4a06-c616-704cbf7307f2"
      },
      "outputs": [
        {
          "output_type": "stream",
          "name": "stdout",
          "text": [
            "[ -6.  -9. -10.  -2.  -5.  -8.   2.   6.   5.   9.]\n"
          ]
        }
      ],
      "source": [
        "array = np.random.uniform(-10,+10,10)\n",
        "print(np.copysign(np.ceil(np.abs(array)), array))"
      ]
    },
    {
      "cell_type": "markdown",
      "id": "8dc40752",
      "metadata": {
        "id": "8dc40752"
      },
      "source": [
        "#### 30. How to find common values between two arrays? (★☆☆)"
      ]
    },
    {
      "cell_type": "code",
      "execution_count": 36,
      "id": "54399cbe",
      "metadata": {
        "id": "54399cbe",
        "colab": {
          "base_uri": "https://localhost:8080/"
        },
        "outputId": "af4195d5-0303-458f-9532-e4dce8a77a65"
      },
      "outputs": [
        {
          "output_type": "stream",
          "name": "stdout",
          "text": [
            "[2 4 6 7 8]\n"
          ]
        }
      ],
      "source": [
        "array1 = np.random.randint(0,10,10)\n",
        "array2 = np.random.randint(0,10,10)\n",
        "print(np.intersect1d(array1,array2))"
      ]
    },
    {
      "cell_type": "markdown",
      "id": "b7f38e21",
      "metadata": {
        "id": "b7f38e21"
      },
      "source": [
        "#### 31. How to ignore all numpy warnings (not recommended)? (★☆☆)"
      ]
    },
    {
      "cell_type": "code",
      "execution_count": 37,
      "id": "2ca3289c",
      "metadata": {
        "id": "2ca3289c"
      },
      "outputs": [],
      "source": [
        "defaults = np.seterr(all=\"ignore\")\n",
        "X = np.ones(1) / 0"
      ]
    },
    {
      "cell_type": "code",
      "source": [
        "# Voltando para configuração padrão\n",
        "_ = np.seterr(**defaults)"
      ],
      "metadata": {
        "id": "70xAQB2uAkIx"
      },
      "id": "70xAQB2uAkIx",
      "execution_count": 38,
      "outputs": []
    },
    {
      "cell_type": "markdown",
      "id": "2d850aab",
      "metadata": {
        "id": "2d850aab"
      },
      "source": [
        "#### 32. Is the following expressions true? (★☆☆)\n",
        "```python\n",
        "np.sqrt(-1) == np.emath.sqrt(-1)\n",
        "```"
      ]
    },
    {
      "cell_type": "code",
      "execution_count": 39,
      "id": "5c83ffce",
      "metadata": {
        "id": "5c83ffce",
        "colab": {
          "base_uri": "https://localhost:8080/"
        },
        "outputId": "983d7f10-a1a9-44f2-f4f1-2e965aa4e0ef"
      },
      "outputs": [
        {
          "output_type": "stream",
          "name": "stdout",
          "text": [
            "False\n"
          ]
        },
        {
          "output_type": "stream",
          "name": "stderr",
          "text": [
            "/usr/local/lib/python3.7/dist-packages/ipykernel_launcher.py:1: RuntimeWarning: invalid value encountered in sqrt\n",
            "  \"\"\"Entry point for launching an IPython kernel.\n"
          ]
        }
      ],
      "source": [
        "print(np.sqrt(-1) == np.emath.sqrt(-1))\n",
        "#False"
      ]
    },
    {
      "cell_type": "markdown",
      "id": "5c4a556f",
      "metadata": {
        "id": "5c4a556f"
      },
      "source": [
        "#### 33. How to get the dates of yesterday, today and tomorrow? (★☆☆)"
      ]
    },
    {
      "cell_type": "code",
      "execution_count": 40,
      "id": "c3b683a0",
      "metadata": {
        "id": "c3b683a0",
        "colab": {
          "base_uri": "https://localhost:8080/"
        },
        "outputId": "6df28a55-1baf-463b-eca2-0009cd3cab5c"
      },
      "outputs": [
        {
          "output_type": "stream",
          "name": "stdout",
          "text": [
            "2022-09-29\n",
            "2022-09-30\n",
            "2022-10-01\n"
          ]
        }
      ],
      "source": [
        "ontem = np.datetime64('today') - np.timedelta64(1)\n",
        "hoje = np.datetime64('today')\n",
        "amanha = np.datetime64('today') + np.timedelta64(1)\n",
        "\n",
        "print(ontem)\n",
        "print(hoje)\n",
        "print(amanha)"
      ]
    },
    {
      "cell_type": "markdown",
      "id": "453cdd64",
      "metadata": {
        "id": "453cdd64"
      },
      "source": [
        "#### 34. How to get all the dates corresponding to the month of July 2016? (★★☆)"
      ]
    },
    {
      "cell_type": "code",
      "execution_count": 41,
      "id": "4ba4d37c",
      "metadata": {
        "id": "4ba4d37c",
        "colab": {
          "base_uri": "https://localhost:8080/"
        },
        "outputId": "14f2bc43-8462-407a-871d-39a5bbf8078a"
      },
      "outputs": [
        {
          "output_type": "stream",
          "name": "stdout",
          "text": [
            "['2016-07-01' '2016-07-02' '2016-07-03' '2016-07-04' '2016-07-05'\n",
            " '2016-07-06' '2016-07-07' '2016-07-08' '2016-07-09' '2016-07-10'\n",
            " '2016-07-11' '2016-07-12' '2016-07-13' '2016-07-14' '2016-07-15'\n",
            " '2016-07-16' '2016-07-17' '2016-07-18' '2016-07-19' '2016-07-20'\n",
            " '2016-07-21' '2016-07-22' '2016-07-23' '2016-07-24' '2016-07-25'\n",
            " '2016-07-26' '2016-07-27' '2016-07-28' '2016-07-29' '2016-07-30'\n",
            " '2016-07-31']\n"
          ]
        }
      ],
      "source": [
        "array = np.arange('2016-07', '2016-08', dtype='datetime64[D]')\n",
        "print(array)"
      ]
    },
    {
      "cell_type": "markdown",
      "id": "52667b6e",
      "metadata": {
        "id": "52667b6e"
      },
      "source": [
        "#### 35. How to compute ((A+B)*(-A/2)) in place (without copy)? (★★☆)"
      ]
    },
    {
      "cell_type": "code",
      "execution_count": 42,
      "id": "e6e7c030",
      "metadata": {
        "id": "e6e7c030",
        "colab": {
          "base_uri": "https://localhost:8080/"
        },
        "outputId": "9a0ae839-42b0-477a-e506-737ddaf16f8b"
      },
      "outputs": [
        {
          "output_type": "execute_result",
          "data": {
            "text/plain": [
              "array([-1.5, -1.5, -1.5])"
            ]
          },
          "metadata": {},
          "execution_count": 42
        }
      ],
      "source": [
        "A = np.ones(3)*1\n",
        "B = np.ones(3)*2\n",
        "np.add(A,B,out=B)\n",
        "np.divide(A,2,out=A)\n",
        "np.negative(A,out=A)\n",
        "np.multiply(A,B,out=A)"
      ]
    },
    {
      "cell_type": "markdown",
      "id": "9a8f3738",
      "metadata": {
        "id": "9a8f3738"
      },
      "source": [
        "#### 36. Extract the integer part of a random array of positive numbers using 4 different methods (★★☆)"
      ]
    },
    {
      "cell_type": "code",
      "execution_count": 43,
      "id": "368a801a",
      "metadata": {
        "id": "368a801a",
        "colab": {
          "base_uri": "https://localhost:8080/"
        },
        "outputId": "5500a4e3-7c3d-45cb-d611-fdd30f37fa98"
      },
      "outputs": [
        {
          "output_type": "stream",
          "name": "stdout",
          "text": [
            "Array inicial:\n",
            "[5.93854394 3.27924615 4.80215341 0.40333328 3.59506293 9.64176335\n",
            " 6.90758995 9.23201844 7.44239609 7.04026873] \n",
            "\n",
            "[5. 3. 4. 0. 3. 9. 6. 9. 7. 7.]\n",
            "[5. 3. 4. 0. 3. 9. 6. 9. 7. 7.]\n",
            "[5. 3. 4. 0. 3. 9. 6. 9. 7. 7.]\n",
            "[5 3 4 0 3 9 6 9 7 7]\n",
            "[5. 3. 4. 0. 3. 9. 6. 9. 7. 7.]\n"
          ]
        }
      ],
      "source": [
        "array = np.random.uniform(0,10,10)\n",
        "print(\"Array inicial:\")\n",
        "print(array, \"\\n\")\n",
        "print(array - array%1)\n",
        "print(array // 1)\n",
        "print(np.floor(array))\n",
        "print(array.astype(int))\n",
        "print(np.trunc(array))"
      ]
    },
    {
      "cell_type": "markdown",
      "id": "cab1eed1",
      "metadata": {
        "id": "cab1eed1"
      },
      "source": [
        "#### 37. Create a 5x5 matrix with row values ranging from 0 to 4 (★★☆)"
      ]
    },
    {
      "cell_type": "code",
      "execution_count": 44,
      "id": "f1b579ba",
      "metadata": {
        "id": "f1b579ba",
        "colab": {
          "base_uri": "https://localhost:8080/"
        },
        "outputId": "8a0521ff-6d96-4261-c5f6-a9610effdafe"
      },
      "outputs": [
        {
          "output_type": "stream",
          "name": "stdout",
          "text": [
            "[[0. 1. 2. 3. 4.]\n",
            " [0. 1. 2. 3. 4.]\n",
            " [0. 1. 2. 3. 4.]\n",
            " [0. 1. 2. 3. 4.]\n",
            " [0. 1. 2. 3. 4.]]\n"
          ]
        }
      ],
      "source": [
        "array = np.zeros((5,5))\n",
        "array += np.arange(5)\n",
        "print(array)"
      ]
    },
    {
      "cell_type": "markdown",
      "id": "cd0ce6b1",
      "metadata": {
        "id": "cd0ce6b1"
      },
      "source": [
        "#### 38. Consider a generator function that generates 10 integers and use it to build an array (★☆☆)"
      ]
    },
    {
      "cell_type": "code",
      "execution_count": 45,
      "id": "aab193a6",
      "metadata": {
        "id": "aab193a6",
        "colab": {
          "base_uri": "https://localhost:8080/"
        },
        "outputId": "9a74657d-362b-4b9c-f5c3-71726463efb7"
      },
      "outputs": [
        {
          "output_type": "stream",
          "name": "stdout",
          "text": [
            "[0, 1, 2, 3, 4, 5, 6, 7, 8, 9]\n"
          ]
        }
      ],
      "source": [
        "def generator():\n",
        "  aux = []\n",
        "  for i in range(10):\n",
        "    aux.append(i)\n",
        "  return aux\n",
        "\n",
        "array = generator()\n",
        "print(array)"
      ]
    },
    {
      "cell_type": "markdown",
      "id": "c4c942d1",
      "metadata": {
        "id": "c4c942d1"
      },
      "source": [
        "#### 39. Create a vector of size 10 with values ranging from 0 to 1, both excluded (★★☆)"
      ]
    },
    {
      "cell_type": "code",
      "execution_count": 46,
      "id": "e42eaa4b",
      "metadata": {
        "id": "e42eaa4b",
        "colab": {
          "base_uri": "https://localhost:8080/"
        },
        "outputId": "9a6cb495-c8d1-48d2-c59b-34b25e68d5c9"
      },
      "outputs": [
        {
          "output_type": "stream",
          "name": "stdout",
          "text": [
            "[0.09090909 0.18181818 0.27272727 0.36363636 0.45454545 0.54545455\n",
            " 0.63636364 0.72727273 0.81818182 0.90909091]\n"
          ]
        }
      ],
      "source": [
        "array = np.linspace(0,1,11,endpoint=False)[1:]\n",
        "print(array)"
      ]
    },
    {
      "cell_type": "markdown",
      "id": "9b3cb8d2",
      "metadata": {
        "id": "9b3cb8d2"
      },
      "source": [
        "#### 40. Create a random vector of size 10 and sort it (★★☆)"
      ]
    },
    {
      "cell_type": "code",
      "execution_count": 47,
      "id": "37d2b341",
      "metadata": {
        "id": "37d2b341",
        "colab": {
          "base_uri": "https://localhost:8080/"
        },
        "outputId": "b57f299f-aa0b-48b7-d3d1-70d885303853"
      },
      "outputs": [
        {
          "output_type": "stream",
          "name": "stdout",
          "text": [
            "[0.14947264 0.22474826 0.25265816 0.31135932 0.52867095 0.60799305\n",
            " 0.64662963 0.72193069 0.75070881 0.94180871]\n"
          ]
        }
      ],
      "source": [
        "array = np.random.random(10)\n",
        "array.sort()\n",
        "print(array)"
      ]
    },
    {
      "cell_type": "markdown",
      "id": "2facfddc",
      "metadata": {
        "id": "2facfddc"
      },
      "source": [
        "#### 41. How to sum a small array faster than np.sum? (★★☆)"
      ]
    },
    {
      "cell_type": "code",
      "execution_count": 48,
      "id": "4bb8864f",
      "metadata": {
        "id": "4bb8864f",
        "colab": {
          "base_uri": "https://localhost:8080/"
        },
        "outputId": "a13599b4-b8f4-4961-e111-ea8bcb148f0c"
      },
      "outputs": [
        {
          "output_type": "execute_result",
          "data": {
            "text/plain": [
              "45"
            ]
          },
          "metadata": {},
          "execution_count": 48
        }
      ],
      "source": [
        "array = np.arange(10)\n",
        "np.add.reduce(array)"
      ]
    },
    {
      "cell_type": "markdown",
      "id": "539cd2a5",
      "metadata": {
        "id": "539cd2a5"
      },
      "source": [
        "#### 42. Consider two random array A and B, check if they are equal (★★☆)"
      ]
    },
    {
      "cell_type": "code",
      "execution_count": 49,
      "id": "5246d7bf",
      "metadata": {
        "id": "5246d7bf",
        "colab": {
          "base_uri": "https://localhost:8080/"
        },
        "outputId": "7367975f-0c9f-44dc-8010-7310b6b8d55a"
      },
      "outputs": [
        {
          "output_type": "stream",
          "name": "stdout",
          "text": [
            "False\n",
            "True\n"
          ]
        }
      ],
      "source": [
        "A = np.random.randint(0,2,5)\n",
        "B = np.random.randint(0,2,5)\n",
        "\n",
        "equal = np.array_equal(A,B)\n",
        "print(equal)\n",
        "\n",
        "A = [1,2,3,4]\n",
        "B = [1,2,3,4]\n",
        "\n",
        "equal = np.array_equal(A,B)\n",
        "print(equal)"
      ]
    },
    {
      "cell_type": "markdown",
      "id": "448f8274",
      "metadata": {
        "id": "448f8274"
      },
      "source": [
        "#### 43. Make an array immutable (read-only) (★★☆)"
      ]
    },
    {
      "cell_type": "code",
      "execution_count": 50,
      "id": "7cf2b3dd",
      "metadata": {
        "id": "7cf2b3dd",
        "colab": {
          "base_uri": "https://localhost:8080/"
        },
        "outputId": "1b1a8d1b-822a-40f1-f1d5-e78413c2a55b"
      },
      "outputs": [
        {
          "output_type": "stream",
          "name": "stdout",
          "text": [
            "Operação não permitida!\n"
          ]
        }
      ],
      "source": [
        "array = np.zeros(10)\n",
        "array.flags.writeable = False\n",
        "\n",
        "# Teste se é mutável\n",
        "try:\n",
        "  array[0] = 1\n",
        "except:\n",
        "  print(\"Operação não permitida!\")"
      ]
    },
    {
      "cell_type": "markdown",
      "id": "d7b7aaf3",
      "metadata": {
        "id": "d7b7aaf3"
      },
      "source": [
        "#### 44. Consider a random 10x2 matrix representing cartesian coordinates, convert them to polar coordinates (★★☆)"
      ]
    },
    {
      "cell_type": "code",
      "execution_count": 51,
      "id": "e2337585",
      "metadata": {
        "id": "e2337585",
        "colab": {
          "base_uri": "https://localhost:8080/"
        },
        "outputId": "54d9edad-5073-4668-8319-1299d9147772"
      },
      "outputs": [
        {
          "output_type": "stream",
          "name": "stdout",
          "text": [
            "[0.74568655 0.21338118 0.86730023 0.61139896 0.13888475 1.21632067\n",
            " 0.81390036 0.73233288 0.95012594 0.95063777]\n",
            "[0.33144537 0.07589447 1.26450414 1.06586738 0.29935447 0.73857458\n",
            " 0.74258862 0.83465576 0.66274815 0.51595318]\n"
          ]
        }
      ],
      "source": [
        "array = np.random.random((10,2))\n",
        "x = array[:,0]\n",
        "y = array[:,1]\n",
        "\n",
        "r = np.sqrt(x**2+y**2)\n",
        "t = np.arctan2(y,x)\n",
        "print(r)\n",
        "print(t)"
      ]
    },
    {
      "cell_type": "markdown",
      "id": "a556027a",
      "metadata": {
        "id": "a556027a"
      },
      "source": [
        "#### 45. Create random vector of size 10 and replace the maximum value by 0 (★★☆)"
      ]
    },
    {
      "cell_type": "code",
      "execution_count": 52,
      "id": "9e07cb87",
      "metadata": {
        "id": "9e07cb87",
        "colab": {
          "base_uri": "https://localhost:8080/"
        },
        "outputId": "8e66dbdb-a6b6-49fa-f800-e6c6f62c34a4"
      },
      "outputs": [
        {
          "output_type": "stream",
          "name": "stdout",
          "text": [
            "[0.45110185 0.93475471 0.31793514 0.         0.15702085 0.04445912\n",
            " 0.30527648 0.6124114  0.35932009 0.0547797 ]\n"
          ]
        }
      ],
      "source": [
        "array = np.random.random(10)\n",
        "array[array.argmax()] = 0\n",
        "print(array)"
      ]
    },
    {
      "cell_type": "markdown",
      "id": "004f3da1",
      "metadata": {
        "id": "004f3da1"
      },
      "source": [
        "#### 46. Create a structured array with `x` and `y` coordinates covering the [0,1]x[0,1] area (★★☆)"
      ]
    },
    {
      "cell_type": "code",
      "execution_count": 53,
      "id": "b3824741",
      "metadata": {
        "id": "b3824741",
        "colab": {
          "base_uri": "https://localhost:8080/"
        },
        "outputId": "d8a71f27-d2b4-42ae-efc9-2095fc94910a"
      },
      "outputs": [
        {
          "output_type": "stream",
          "name": "stdout",
          "text": [
            "[[(0.  , 0.  ) (0.25, 0.  ) (0.5 , 0.  ) (0.75, 0.  ) (1.  , 0.  )]\n",
            " [(0.  , 0.25) (0.25, 0.25) (0.5 , 0.25) (0.75, 0.25) (1.  , 0.25)]\n",
            " [(0.  , 0.5 ) (0.25, 0.5 ) (0.5 , 0.5 ) (0.75, 0.5 ) (1.  , 0.5 )]\n",
            " [(0.  , 0.75) (0.25, 0.75) (0.5 , 0.75) (0.75, 0.75) (1.  , 0.75)]\n",
            " [(0.  , 1.  ) (0.25, 1.  ) (0.5 , 1.  ) (0.75, 1.  ) (1.  , 1.  )]]\n"
          ]
        }
      ],
      "source": [
        "array = np.zeros((5,5), [('x',float),('y',float)])\n",
        "array['x'], array['y'] = np.meshgrid(np.linspace(0,1,5), np.linspace(0,1,5))\n",
        "print(array)"
      ]
    },
    {
      "cell_type": "markdown",
      "id": "1c0adc0d",
      "metadata": {
        "id": "1c0adc0d"
      },
      "source": [
        "#### 47. Given two arrays, X and Y, construct the Cauchy matrix C (Cij =1/(xi - yj)) (★★☆)"
      ]
    },
    {
      "cell_type": "code",
      "execution_count": 54,
      "id": "01b3bbb7",
      "metadata": {
        "id": "01b3bbb7",
        "colab": {
          "base_uri": "https://localhost:8080/"
        },
        "outputId": "06aefe4d-7a95-4af3-fc15-afc10479e105"
      },
      "outputs": [
        {
          "output_type": "stream",
          "name": "stdout",
          "text": [
            "3638.163637117973\n"
          ]
        }
      ],
      "source": [
        "array = np.arange(8)\n",
        "X = array + 0.5\n",
        "Y = 1.0 / np.subtract.outer(array, X)\n",
        "print(np.linalg.det(Y))"
      ]
    },
    {
      "cell_type": "markdown",
      "id": "c8a2f65a",
      "metadata": {
        "id": "c8a2f65a"
      },
      "source": [
        "#### 48. Print the minimum and maximum representable value for each numpy scalar type (★★☆)"
      ]
    },
    {
      "cell_type": "code",
      "execution_count": 55,
      "id": "35d844d6",
      "metadata": {
        "id": "35d844d6",
        "colab": {
          "base_uri": "https://localhost:8080/"
        },
        "outputId": "2c0afb1f-53c4-40f7-b284-67d49c56ef71"
      },
      "outputs": [
        {
          "output_type": "stream",
          "name": "stdout",
          "text": [
            "-128\n",
            "127\n",
            "-2147483648\n",
            "2147483647\n",
            "-9223372036854775808\n",
            "9223372036854775807\n",
            "-3.4028235e+38\n",
            "3.4028235e+38\n",
            "1.1920929e-07\n",
            "-1.7976931348623157e+308\n",
            "1.7976931348623157e+308\n",
            "2.220446049250313e-16\n"
          ]
        }
      ],
      "source": [
        "for dtype in [np.int8, np.int32, np.int64]:\n",
        "   print(np.iinfo(dtype).min)\n",
        "   print(np.iinfo(dtype).max)\n",
        "   \n",
        "for dtype in [np.float32, np.float64]:\n",
        "   print(np.finfo(dtype).min)\n",
        "   print(np.finfo(dtype).max)\n",
        "   print(np.finfo(dtype).eps)"
      ]
    },
    {
      "cell_type": "markdown",
      "id": "11727a69",
      "metadata": {
        "id": "11727a69"
      },
      "source": [
        "#### 49. How to print all the values of an array? (★★☆)"
      ]
    },
    {
      "cell_type": "code",
      "execution_count": 56,
      "id": "47e98473",
      "metadata": {
        "id": "47e98473",
        "colab": {
          "base_uri": "https://localhost:8080/"
        },
        "outputId": "b93ecd4c-6743-472d-ea6f-13ae8fbc968b"
      },
      "outputs": [
        {
          "output_type": "stream",
          "name": "stdout",
          "text": [
            "[[0. 0. 0. 0. 0. 0. 0. 0. 0. 0. 0. 0. 0. 0. 0. 0. 0. 0. 0. 0. 0. 0. 0. 0.\n",
            "  0. 0. 0. 0. 0. 0. 0. 0. 0. 0. 0. 0. 0. 0. 0. 0.]\n",
            " [0. 0. 0. 0. 0. 0. 0. 0. 0. 0. 0. 0. 0. 0. 0. 0. 0. 0. 0. 0. 0. 0. 0. 0.\n",
            "  0. 0. 0. 0. 0. 0. 0. 0. 0. 0. 0. 0. 0. 0. 0. 0.]\n",
            " [0. 0. 0. 0. 0. 0. 0. 0. 0. 0. 0. 0. 0. 0. 0. 0. 0. 0. 0. 0. 0. 0. 0. 0.\n",
            "  0. 0. 0. 0. 0. 0. 0. 0. 0. 0. 0. 0. 0. 0. 0. 0.]\n",
            " [0. 0. 0. 0. 0. 0. 0. 0. 0. 0. 0. 0. 0. 0. 0. 0. 0. 0. 0. 0. 0. 0. 0. 0.\n",
            "  0. 0. 0. 0. 0. 0. 0. 0. 0. 0. 0. 0. 0. 0. 0. 0.]\n",
            " [0. 0. 0. 0. 0. 0. 0. 0. 0. 0. 0. 0. 0. 0. 0. 0. 0. 0. 0. 0. 0. 0. 0. 0.\n",
            "  0. 0. 0. 0. 0. 0. 0. 0. 0. 0. 0. 0. 0. 0. 0. 0.]\n",
            " [0. 0. 0. 0. 0. 0. 0. 0. 0. 0. 0. 0. 0. 0. 0. 0. 0. 0. 0. 0. 0. 0. 0. 0.\n",
            "  0. 0. 0. 0. 0. 0. 0. 0. 0. 0. 0. 0. 0. 0. 0. 0.]\n",
            " [0. 0. 0. 0. 0. 0. 0. 0. 0. 0. 0. 0. 0. 0. 0. 0. 0. 0. 0. 0. 0. 0. 0. 0.\n",
            "  0. 0. 0. 0. 0. 0. 0. 0. 0. 0. 0. 0. 0. 0. 0. 0.]\n",
            " [0. 0. 0. 0. 0. 0. 0. 0. 0. 0. 0. 0. 0. 0. 0. 0. 0. 0. 0. 0. 0. 0. 0. 0.\n",
            "  0. 0. 0. 0. 0. 0. 0. 0. 0. 0. 0. 0. 0. 0. 0. 0.]\n",
            " [0. 0. 0. 0. 0. 0. 0. 0. 0. 0. 0. 0. 0. 0. 0. 0. 0. 0. 0. 0. 0. 0. 0. 0.\n",
            "  0. 0. 0. 0. 0. 0. 0. 0. 0. 0. 0. 0. 0. 0. 0. 0.]\n",
            " [0. 0. 0. 0. 0. 0. 0. 0. 0. 0. 0. 0. 0. 0. 0. 0. 0. 0. 0. 0. 0. 0. 0. 0.\n",
            "  0. 0. 0. 0. 0. 0. 0. 0. 0. 0. 0. 0. 0. 0. 0. 0.]\n",
            " [0. 0. 0. 0. 0. 0. 0. 0. 0. 0. 0. 0. 0. 0. 0. 0. 0. 0. 0. 0. 0. 0. 0. 0.\n",
            "  0. 0. 0. 0. 0. 0. 0. 0. 0. 0. 0. 0. 0. 0. 0. 0.]\n",
            " [0. 0. 0. 0. 0. 0. 0. 0. 0. 0. 0. 0. 0. 0. 0. 0. 0. 0. 0. 0. 0. 0. 0. 0.\n",
            "  0. 0. 0. 0. 0. 0. 0. 0. 0. 0. 0. 0. 0. 0. 0. 0.]\n",
            " [0. 0. 0. 0. 0. 0. 0. 0. 0. 0. 0. 0. 0. 0. 0. 0. 0. 0. 0. 0. 0. 0. 0. 0.\n",
            "  0. 0. 0. 0. 0. 0. 0. 0. 0. 0. 0. 0. 0. 0. 0. 0.]\n",
            " [0. 0. 0. 0. 0. 0. 0. 0. 0. 0. 0. 0. 0. 0. 0. 0. 0. 0. 0. 0. 0. 0. 0. 0.\n",
            "  0. 0. 0. 0. 0. 0. 0. 0. 0. 0. 0. 0. 0. 0. 0. 0.]\n",
            " [0. 0. 0. 0. 0. 0. 0. 0. 0. 0. 0. 0. 0. 0. 0. 0. 0. 0. 0. 0. 0. 0. 0. 0.\n",
            "  0. 0. 0. 0. 0. 0. 0. 0. 0. 0. 0. 0. 0. 0. 0. 0.]\n",
            " [0. 0. 0. 0. 0. 0. 0. 0. 0. 0. 0. 0. 0. 0. 0. 0. 0. 0. 0. 0. 0. 0. 0. 0.\n",
            "  0. 0. 0. 0. 0. 0. 0. 0. 0. 0. 0. 0. 0. 0. 0. 0.]\n",
            " [0. 0. 0. 0. 0. 0. 0. 0. 0. 0. 0. 0. 0. 0. 0. 0. 0. 0. 0. 0. 0. 0. 0. 0.\n",
            "  0. 0. 0. 0. 0. 0. 0. 0. 0. 0. 0. 0. 0. 0. 0. 0.]\n",
            " [0. 0. 0. 0. 0. 0. 0. 0. 0. 0. 0. 0. 0. 0. 0. 0. 0. 0. 0. 0. 0. 0. 0. 0.\n",
            "  0. 0. 0. 0. 0. 0. 0. 0. 0. 0. 0. 0. 0. 0. 0. 0.]\n",
            " [0. 0. 0. 0. 0. 0. 0. 0. 0. 0. 0. 0. 0. 0. 0. 0. 0. 0. 0. 0. 0. 0. 0. 0.\n",
            "  0. 0. 0. 0. 0. 0. 0. 0. 0. 0. 0. 0. 0. 0. 0. 0.]\n",
            " [0. 0. 0. 0. 0. 0. 0. 0. 0. 0. 0. 0. 0. 0. 0. 0. 0. 0. 0. 0. 0. 0. 0. 0.\n",
            "  0. 0. 0. 0. 0. 0. 0. 0. 0. 0. 0. 0. 0. 0. 0. 0.]\n",
            " [0. 0. 0. 0. 0. 0. 0. 0. 0. 0. 0. 0. 0. 0. 0. 0. 0. 0. 0. 0. 0. 0. 0. 0.\n",
            "  0. 0. 0. 0. 0. 0. 0. 0. 0. 0. 0. 0. 0. 0. 0. 0.]\n",
            " [0. 0. 0. 0. 0. 0. 0. 0. 0. 0. 0. 0. 0. 0. 0. 0. 0. 0. 0. 0. 0. 0. 0. 0.\n",
            "  0. 0. 0. 0. 0. 0. 0. 0. 0. 0. 0. 0. 0. 0. 0. 0.]\n",
            " [0. 0. 0. 0. 0. 0. 0. 0. 0. 0. 0. 0. 0. 0. 0. 0. 0. 0. 0. 0. 0. 0. 0. 0.\n",
            "  0. 0. 0. 0. 0. 0. 0. 0. 0. 0. 0. 0. 0. 0. 0. 0.]\n",
            " [0. 0. 0. 0. 0. 0. 0. 0. 0. 0. 0. 0. 0. 0. 0. 0. 0. 0. 0. 0. 0. 0. 0. 0.\n",
            "  0. 0. 0. 0. 0. 0. 0. 0. 0. 0. 0. 0. 0. 0. 0. 0.]\n",
            " [0. 0. 0. 0. 0. 0. 0. 0. 0. 0. 0. 0. 0. 0. 0. 0. 0. 0. 0. 0. 0. 0. 0. 0.\n",
            "  0. 0. 0. 0. 0. 0. 0. 0. 0. 0. 0. 0. 0. 0. 0. 0.]\n",
            " [0. 0. 0. 0. 0. 0. 0. 0. 0. 0. 0. 0. 0. 0. 0. 0. 0. 0. 0. 0. 0. 0. 0. 0.\n",
            "  0. 0. 0. 0. 0. 0. 0. 0. 0. 0. 0. 0. 0. 0. 0. 0.]\n",
            " [0. 0. 0. 0. 0. 0. 0. 0. 0. 0. 0. 0. 0. 0. 0. 0. 0. 0. 0. 0. 0. 0. 0. 0.\n",
            "  0. 0. 0. 0. 0. 0. 0. 0. 0. 0. 0. 0. 0. 0. 0. 0.]\n",
            " [0. 0. 0. 0. 0. 0. 0. 0. 0. 0. 0. 0. 0. 0. 0. 0. 0. 0. 0. 0. 0. 0. 0. 0.\n",
            "  0. 0. 0. 0. 0. 0. 0. 0. 0. 0. 0. 0. 0. 0. 0. 0.]\n",
            " [0. 0. 0. 0. 0. 0. 0. 0. 0. 0. 0. 0. 0. 0. 0. 0. 0. 0. 0. 0. 0. 0. 0. 0.\n",
            "  0. 0. 0. 0. 0. 0. 0. 0. 0. 0. 0. 0. 0. 0. 0. 0.]\n",
            " [0. 0. 0. 0. 0. 0. 0. 0. 0. 0. 0. 0. 0. 0. 0. 0. 0. 0. 0. 0. 0. 0. 0. 0.\n",
            "  0. 0. 0. 0. 0. 0. 0. 0. 0. 0. 0. 0. 0. 0. 0. 0.]\n",
            " [0. 0. 0. 0. 0. 0. 0. 0. 0. 0. 0. 0. 0. 0. 0. 0. 0. 0. 0. 0. 0. 0. 0. 0.\n",
            "  0. 0. 0. 0. 0. 0. 0. 0. 0. 0. 0. 0. 0. 0. 0. 0.]\n",
            " [0. 0. 0. 0. 0. 0. 0. 0. 0. 0. 0. 0. 0. 0. 0. 0. 0. 0. 0. 0. 0. 0. 0. 0.\n",
            "  0. 0. 0. 0. 0. 0. 0. 0. 0. 0. 0. 0. 0. 0. 0. 0.]\n",
            " [0. 0. 0. 0. 0. 0. 0. 0. 0. 0. 0. 0. 0. 0. 0. 0. 0. 0. 0. 0. 0. 0. 0. 0.\n",
            "  0. 0. 0. 0. 0. 0. 0. 0. 0. 0. 0. 0. 0. 0. 0. 0.]\n",
            " [0. 0. 0. 0. 0. 0. 0. 0. 0. 0. 0. 0. 0. 0. 0. 0. 0. 0. 0. 0. 0. 0. 0. 0.\n",
            "  0. 0. 0. 0. 0. 0. 0. 0. 0. 0. 0. 0. 0. 0. 0. 0.]\n",
            " [0. 0. 0. 0. 0. 0. 0. 0. 0. 0. 0. 0. 0. 0. 0. 0. 0. 0. 0. 0. 0. 0. 0. 0.\n",
            "  0. 0. 0. 0. 0. 0. 0. 0. 0. 0. 0. 0. 0. 0. 0. 0.]\n",
            " [0. 0. 0. 0. 0. 0. 0. 0. 0. 0. 0. 0. 0. 0. 0. 0. 0. 0. 0. 0. 0. 0. 0. 0.\n",
            "  0. 0. 0. 0. 0. 0. 0. 0. 0. 0. 0. 0. 0. 0. 0. 0.]\n",
            " [0. 0. 0. 0. 0. 0. 0. 0. 0. 0. 0. 0. 0. 0. 0. 0. 0. 0. 0. 0. 0. 0. 0. 0.\n",
            "  0. 0. 0. 0. 0. 0. 0. 0. 0. 0. 0. 0. 0. 0. 0. 0.]\n",
            " [0. 0. 0. 0. 0. 0. 0. 0. 0. 0. 0. 0. 0. 0. 0. 0. 0. 0. 0. 0. 0. 0. 0. 0.\n",
            "  0. 0. 0. 0. 0. 0. 0. 0. 0. 0. 0. 0. 0. 0. 0. 0.]\n",
            " [0. 0. 0. 0. 0. 0. 0. 0. 0. 0. 0. 0. 0. 0. 0. 0. 0. 0. 0. 0. 0. 0. 0. 0.\n",
            "  0. 0. 0. 0. 0. 0. 0. 0. 0. 0. 0. 0. 0. 0. 0. 0.]\n",
            " [0. 0. 0. 0. 0. 0. 0. 0. 0. 0. 0. 0. 0. 0. 0. 0. 0. 0. 0. 0. 0. 0. 0. 0.\n",
            "  0. 0. 0. 0. 0. 0. 0. 0. 0. 0. 0. 0. 0. 0. 0. 0.]]\n"
          ]
        }
      ],
      "source": [
        "np.set_printoptions(threshold=float(\"inf\"))\n",
        "array = np.zeros((40,40))\n",
        "print(array)"
      ]
    },
    {
      "cell_type": "markdown",
      "id": "e0e7d741",
      "metadata": {
        "id": "e0e7d741"
      },
      "source": [
        "#### 50. How to find the closest value (to a given scalar) in a vector? (★★☆)"
      ]
    },
    {
      "cell_type": "code",
      "execution_count": 57,
      "id": "62cabf6f",
      "metadata": {
        "id": "62cabf6f",
        "colab": {
          "base_uri": "https://localhost:8080/"
        },
        "outputId": "cf88cbb0-153c-4024-ed1b-1bdc0727d82e"
      },
      "outputs": [
        {
          "output_type": "stream",
          "name": "stdout",
          "text": [
            "59\n"
          ]
        }
      ],
      "source": [
        "array = np.arange(100)\n",
        "v = np.random.uniform(0,100)\n",
        "index = (np.abs(array-v)).argmin()\n",
        "print(array[index])"
      ]
    },
    {
      "cell_type": "markdown",
      "id": "c5611b9e",
      "metadata": {
        "id": "c5611b9e"
      },
      "source": [
        "#### 51. Create a structured array representing a position (x,y) and a color (r,g,b) (★★☆)"
      ]
    },
    {
      "cell_type": "code",
      "execution_count": 58,
      "id": "f622939d",
      "metadata": {
        "id": "f622939d",
        "colab": {
          "base_uri": "https://localhost:8080/"
        },
        "outputId": "d283f832-1355-4aed-dbdb-0f3ee80d05f3"
      },
      "outputs": [
        {
          "output_type": "stream",
          "name": "stdout",
          "text": [
            "[((0., 0.), (0., 0., 0.)) ((0., 0.), (0., 0., 0.))\n",
            " ((0., 0.), (0., 0., 0.)) ((0., 0.), (0., 0., 0.))\n",
            " ((0., 0.), (0., 0., 0.)) ((0., 0.), (0., 0., 0.))\n",
            " ((0., 0.), (0., 0., 0.)) ((0., 0.), (0., 0., 0.))\n",
            " ((0., 0.), (0., 0., 0.)) ((0., 0.), (0., 0., 0.))]\n"
          ]
        },
        {
          "output_type": "stream",
          "name": "stderr",
          "text": [
            "/usr/local/lib/python3.7/dist-packages/ipykernel_launcher.py:2: FutureWarning: Passing (type, 1) or '1type' as a synonym of type is deprecated; in a future version of numpy, it will be understood as (type, (1,)) / '(1,)type'.\n",
            "  \n"
          ]
        }
      ],
      "source": [
        "Z = np.zeros(10, [ ('position', [ ('x', float, 1), ('y', float, 1)]),\n",
        "                   ('color',    [ ('r', float, 1), ('g', float, 1), ('b', float, 1)])])\n",
        "print(Z)"
      ]
    },
    {
      "cell_type": "markdown",
      "id": "d22b8574",
      "metadata": {
        "id": "d22b8574"
      },
      "source": [
        "#### 52. Consider a random vector with shape (100,2) representing coordinates, find point by point distances (★★☆)"
      ]
    },
    {
      "cell_type": "code",
      "execution_count": 59,
      "id": "d5c9cdf8",
      "metadata": {
        "id": "d5c9cdf8",
        "colab": {
          "base_uri": "https://localhost:8080/"
        },
        "outputId": "310972a0-ae9d-417d-bd3d-3cc03b026418"
      },
      "outputs": [
        {
          "output_type": "stream",
          "name": "stdout",
          "text": [
            "[[0.         0.37083361 0.45220707 0.29048454 0.91915794 0.91227396\n",
            "  0.7242682  0.79989938 0.87672683 0.87829565]\n",
            " [0.37083361 0.         0.12050793 0.65991691 0.850573   1.1032111\n",
            "  0.96459718 0.9679694  0.78728283 0.88332759]\n",
            " [0.45220707 0.12050793 0.         0.73197136 0.75838081 1.07958498\n",
            "  0.96237436 0.94023061 0.69178763 0.80912575]\n",
            " [0.29048454 0.65991691 0.73197136 0.         1.03231143 0.81242048\n",
            "  0.5940126  0.73601502 1.00776488 0.94353621]\n",
            " [0.91915794 0.850573   0.75838081 1.03231143 0.         0.68252784\n",
            "  0.74503443 0.56989977 0.07321097 0.17593179]\n",
            " [0.91227396 1.1032111  1.07958498 0.81242048 0.68252784 0.\n",
            "  0.22355287 0.14207049 0.72221716 0.50705927]\n",
            " [0.7242682  0.96459718 0.96237436 0.5940126  0.74503443 0.22355287\n",
            "  0.         0.2048245  0.7648013  0.58405278]\n",
            " [0.79989938 0.9679694  0.94023061 0.73601502 0.56989977 0.14207049\n",
            "  0.2048245  0.         0.60152846 0.39908402]\n",
            " [0.87672683 0.78728283 0.69178763 1.00776488 0.07321097 0.72221716\n",
            "  0.7648013  0.60152846 0.         0.22509225]\n",
            " [0.87829565 0.88332759 0.80912575 0.94353621 0.17593179 0.50705927\n",
            "  0.58405278 0.39908402 0.22509225 0.        ]]\n"
          ]
        }
      ],
      "source": [
        "array = np.random.random((10,2))\n",
        "X, Y = np.atleast_2d(array[:,0], array[:,1])\n",
        "D = np.sqrt((X-X.T)**2 + (Y-Y.T)**2)\n",
        "print(D)"
      ]
    },
    {
      "cell_type": "markdown",
      "id": "f5c164f2",
      "metadata": {
        "id": "f5c164f2"
      },
      "source": [
        "#### 53. How to convert a float (32 bits) array into an integer (32 bits) in place?"
      ]
    },
    {
      "cell_type": "code",
      "execution_count": 60,
      "id": "ea262de8",
      "metadata": {
        "id": "ea262de8",
        "colab": {
          "base_uri": "https://localhost:8080/"
        },
        "outputId": "5b40e6e6-48a5-474a-fb80-72bad8842c42"
      },
      "outputs": [
        {
          "output_type": "stream",
          "name": "stdout",
          "text": [
            "[ 4 75 37  5 92 78 15 36 71 31]\n"
          ]
        }
      ],
      "source": [
        "arrayFloat = (np.random.rand(10)*100).astype(np.float32)\n",
        "x = arrayFloat.view(np.int32)\n",
        "x[:] = arrayFloat\n",
        "print(x)"
      ]
    },
    {
      "cell_type": "markdown",
      "id": "a8b7e6f5",
      "metadata": {
        "id": "a8b7e6f5"
      },
      "source": [
        "#### 54. How to read the following file? (★★☆)\n",
        "```\n",
        "1, 2, 3, 4, 5\n",
        "6,  ,  , 7, 8\n",
        " ,  , 9,10,11\n",
        "```"
      ]
    },
    {
      "cell_type": "markdown",
      "id": "c6b32834",
      "metadata": {
        "id": "c6b32834"
      },
      "source": [
        "#### 55. What is the equivalent of enumerate for numpy arrays? (★★☆)"
      ]
    },
    {
      "cell_type": "code",
      "execution_count": 61,
      "id": "ab02472a",
      "metadata": {
        "id": "ab02472a",
        "colab": {
          "base_uri": "https://localhost:8080/"
        },
        "outputId": "49566c08-f6a8-4017-9b71-b0c6e661459f"
      },
      "outputs": [
        {
          "output_type": "stream",
          "name": "stdout",
          "text": [
            "enumerate:\n",
            "(0, 0) 0\n",
            "(0, 1) 1\n",
            "(0, 2) 2\n",
            "(1, 0) 3\n",
            "(1, 1) 4\n",
            "(1, 2) 5\n",
            "(2, 0) 6\n",
            "(2, 1) 7\n",
            "(2, 2) 8\n",
            "equivalent:\n",
            "(0, 0) 0\n",
            "(0, 1) 1\n",
            "(0, 2) 2\n",
            "(1, 0) 3\n",
            "(1, 1) 4\n",
            "(1, 2) 5\n",
            "(2, 0) 6\n",
            "(2, 1) 7\n",
            "(2, 2) 8\n"
          ]
        }
      ],
      "source": [
        "array = np.arange(9).reshape(3,3)\n",
        "\n",
        "print(\"enumerate:\")\n",
        "for index, value in np.ndenumerate(array):\n",
        "    print(index, value)\n",
        "\n",
        "print(\"equivalent:\")\n",
        "for index in np.ndindex(array.shape):\n",
        "    print(index, array[index])"
      ]
    },
    {
      "cell_type": "markdown",
      "id": "a2121a05",
      "metadata": {
        "id": "a2121a05"
      },
      "source": [
        "#### 56. Generate a generic 2D Gaussian-like array (★★☆)"
      ]
    },
    {
      "cell_type": "code",
      "execution_count": 62,
      "id": "18507102",
      "metadata": {
        "id": "18507102",
        "colab": {
          "base_uri": "https://localhost:8080/"
        },
        "outputId": "1a8c1bfb-e0e3-4673-923d-6bfb9f7c9809"
      },
      "outputs": [
        {
          "output_type": "stream",
          "name": "stdout",
          "text": [
            "[[0.36787944 0.44822088 0.51979489 0.57375342 0.60279818 0.60279818\n",
            "  0.57375342 0.51979489 0.44822088 0.36787944]\n",
            " [0.44822088 0.54610814 0.63331324 0.69905581 0.73444367 0.73444367\n",
            "  0.69905581 0.63331324 0.54610814 0.44822088]\n",
            " [0.51979489 0.63331324 0.73444367 0.81068432 0.85172308 0.85172308\n",
            "  0.81068432 0.73444367 0.63331324 0.51979489]\n",
            " [0.57375342 0.69905581 0.81068432 0.89483932 0.9401382  0.9401382\n",
            "  0.89483932 0.81068432 0.69905581 0.57375342]\n",
            " [0.60279818 0.73444367 0.85172308 0.9401382  0.98773022 0.98773022\n",
            "  0.9401382  0.85172308 0.73444367 0.60279818]\n",
            " [0.60279818 0.73444367 0.85172308 0.9401382  0.98773022 0.98773022\n",
            "  0.9401382  0.85172308 0.73444367 0.60279818]\n",
            " [0.57375342 0.69905581 0.81068432 0.89483932 0.9401382  0.9401382\n",
            "  0.89483932 0.81068432 0.69905581 0.57375342]\n",
            " [0.51979489 0.63331324 0.73444367 0.81068432 0.85172308 0.85172308\n",
            "  0.81068432 0.73444367 0.63331324 0.51979489]\n",
            " [0.44822088 0.54610814 0.63331324 0.69905581 0.73444367 0.73444367\n",
            "  0.69905581 0.63331324 0.54610814 0.44822088]\n",
            " [0.36787944 0.44822088 0.51979489 0.57375342 0.60279818 0.60279818\n",
            "  0.57375342 0.51979489 0.44822088 0.36787944]]\n"
          ]
        }
      ],
      "source": [
        "X, Y = np.meshgrid(np.linspace(-1,1,10), np.linspace(-1,1,10))\n",
        "R = np.sqrt(X*X+Y*Y)\n",
        "sigma = 1.0\n",
        "mu = 0.0\n",
        "Z = np.exp(-((R-mu)**2/(2.0*sigma**2)))\n",
        "print(Z)"
      ]
    },
    {
      "cell_type": "markdown",
      "id": "97055efa",
      "metadata": {
        "id": "97055efa"
      },
      "source": [
        "#### 57. How to randomly place p elements in a 2D array? (★★☆)"
      ]
    },
    {
      "cell_type": "code",
      "execution_count": 63,
      "id": "292e842f",
      "metadata": {
        "id": "292e842f",
        "colab": {
          "base_uri": "https://localhost:8080/"
        },
        "outputId": "52d12f4e-c01b-4f87-8d35-d876c840240e"
      },
      "outputs": [
        {
          "output_type": "stream",
          "name": "stdout",
          "text": [
            "[[0. 0. 0. 1. 0. 0. 0. 0.]\n",
            " [0. 0. 0. 0. 0. 1. 0. 0.]\n",
            " [0. 0. 0. 1. 0. 0. 0. 0.]\n",
            " [0. 0. 0. 0. 0. 0. 0. 0.]\n",
            " [0. 0. 0. 0. 0. 0. 0. 0.]\n",
            " [0. 0. 0. 1. 0. 0. 0. 0.]\n",
            " [0. 0. 1. 1. 0. 0. 0. 0.]\n",
            " [0. 0. 0. 0. 0. 0. 0. 0.]]\n"
          ]
        }
      ],
      "source": [
        "size = 8\n",
        "replacedElements = 6\n",
        "array = np.zeros((size,size))\n",
        "np.put(array, np.random.choice(range(size*size), replacedElements, replace=False),1)\n",
        "print(array)"
      ]
    },
    {
      "cell_type": "markdown",
      "id": "bfd2513c",
      "metadata": {
        "id": "bfd2513c"
      },
      "source": [
        "#### 58. Subtract the mean of each row of a matrix (★★☆)"
      ]
    },
    {
      "cell_type": "code",
      "execution_count": 64,
      "id": "f306ab72",
      "metadata": {
        "id": "f306ab72",
        "colab": {
          "base_uri": "https://localhost:8080/"
        },
        "outputId": "64b4007c-6b5d-471b-bab4-efa16a7853e0"
      },
      "outputs": [
        {
          "output_type": "stream",
          "name": "stdout",
          "text": [
            "[[-0.23584649  0.17665506  0.42582492  0.39138968 -0.07322095 -0.14319222\n",
            "  -0.20267131 -0.40707803 -0.29063688  0.35877623]\n",
            " [ 0.47780223 -0.0683674  -0.39029731  0.16723626 -0.02417323  0.32181571\n",
            "  -0.1133714  -0.15608291  0.0208955  -0.23545746]\n",
            " [ 0.06443501 -0.29346667 -0.09927242  0.27594364 -0.02393083  0.39470092\n",
            "  -0.5133966  -0.12134787 -0.0699431   0.38627792]\n",
            " [ 0.03081614 -0.18502915  0.32932401 -0.50037769 -0.47700137  0.36160696\n",
            "   0.44917226  0.12516821 -0.26651209  0.13283273]\n",
            " [ 0.07041521 -0.31220258  0.4716896   0.0129779  -0.45725354  0.02157393\n",
            "   0.02329788  0.07497666  0.48453877 -0.39001382]]\n"
          ]
        }
      ],
      "source": [
        "X = np.random.rand(5, 10)\n",
        "Y = X - X.mean(axis=1).reshape(-1, 1)\n",
        "print(Y)"
      ]
    },
    {
      "cell_type": "markdown",
      "id": "da9f2f9b",
      "metadata": {
        "id": "da9f2f9b"
      },
      "source": [
        "#### 59. How to sort an array by the nth column? (★★☆)"
      ]
    },
    {
      "cell_type": "code",
      "execution_count": 65,
      "id": "68cde57f",
      "metadata": {
        "id": "68cde57f",
        "colab": {
          "base_uri": "https://localhost:8080/"
        },
        "outputId": "1d498496-a72d-476d-d0d9-3b4fb68e1307"
      },
      "outputs": [
        {
          "output_type": "stream",
          "name": "stdout",
          "text": [
            "[[9 9 4]\n",
            " [1 0 2]\n",
            " [2 7 4]]\n",
            "[[1 0 2]\n",
            " [2 7 4]\n",
            " [9 9 4]]\n"
          ]
        }
      ],
      "source": [
        "array = np.random.randint(0,10,(3,3))\n",
        "print(array)\n",
        "print(array[array[:,1].argsort()])"
      ]
    },
    {
      "cell_type": "markdown",
      "id": "5b7be45c",
      "metadata": {
        "id": "5b7be45c"
      },
      "source": [
        "#### 60. How to tell if a given 2D array has null columns? (★★☆)"
      ]
    },
    {
      "cell_type": "code",
      "execution_count": 66,
      "id": "7dbe2c27",
      "metadata": {
        "id": "7dbe2c27",
        "colab": {
          "base_uri": "https://localhost:8080/"
        },
        "outputId": "9017bfdb-8460-4e53-b9c7-5b18638fc6f7"
      },
      "outputs": [
        {
          "output_type": "stream",
          "name": "stdout",
          "text": [
            "True\n"
          ]
        }
      ],
      "source": [
        "array = np.random.randint(0,3,(3,10))\n",
        "print((~array.any(axis=0)).any())"
      ]
    },
    {
      "cell_type": "markdown",
      "id": "7c18c02e",
      "metadata": {
        "id": "7c18c02e"
      },
      "source": [
        "#### 61. Find the nearest value from a given value in an array (★★☆)"
      ]
    },
    {
      "cell_type": "code",
      "execution_count": 67,
      "id": "b78ae9c4",
      "metadata": {
        "id": "b78ae9c4",
        "colab": {
          "base_uri": "https://localhost:8080/"
        },
        "outputId": "0234f5b8-f594-47af-b30e-fb06aed56558"
      },
      "outputs": [
        {
          "output_type": "stream",
          "name": "stdout",
          "text": [
            "0.4631281997134653\n"
          ]
        }
      ],
      "source": [
        "array = np.random.uniform(0,1,10)\n",
        "value = 0.5\n",
        "result = array.flat[np.abs(array - value).argmin()]\n",
        "print(result)"
      ]
    },
    {
      "cell_type": "markdown",
      "id": "8174ba2c",
      "metadata": {
        "id": "8174ba2c"
      },
      "source": [
        "#### 62. Considering two arrays with shape (1,3) and (3,1), how to compute their sum using an iterator? (★★☆)"
      ]
    },
    {
      "cell_type": "code",
      "execution_count": 68,
      "id": "8a18fe57",
      "metadata": {
        "id": "8a18fe57",
        "colab": {
          "base_uri": "https://localhost:8080/"
        },
        "outputId": "5528c2c3-b330-4fcc-88fe-20cdaef96fb0"
      },
      "outputs": [
        {
          "output_type": "stream",
          "name": "stdout",
          "text": [
            "[[0 1 2]\n",
            " [1 2 3]\n",
            " [2 3 4]]\n"
          ]
        }
      ],
      "source": [
        "A = np.arange(3).reshape(3,1)\n",
        "B = np.arange(3).reshape(1,3)\n",
        "\n",
        "it = np.nditer([A,B,None])\n",
        "\n",
        "for x,y,z in it: z[...] = x + y\n",
        "print(it.operands[2])"
      ]
    },
    {
      "cell_type": "markdown",
      "id": "9189bd7c",
      "metadata": {
        "id": "9189bd7c"
      },
      "source": [
        "#### 63. Create an array class that has a name attribute (★★☆)"
      ]
    },
    {
      "cell_type": "code",
      "execution_count": 69,
      "id": "1c01ed42",
      "metadata": {
        "id": "1c01ed42"
      },
      "outputs": [],
      "source": [
        "class arrayName(np.ndarray):\n",
        "    def __new__(cls, array, name=\"no name\"):\n",
        "        obj = np.asarray(array).view(cls)\n",
        "        obj.name = name\n",
        "        return obj\n",
        "    def __array_finalize__(self, obj):\n",
        "        if obj is None: return\n",
        "        self.info = getattr(obj, 'name', \"no name\")"
      ]
    },
    {
      "cell_type": "code",
      "source": [
        "array = arrayName(np.arange(10), \"class\")\n",
        "print (array.name)"
      ],
      "metadata": {
        "colab": {
          "base_uri": "https://localhost:8080/"
        },
        "id": "w7T8aNuZwMbc",
        "outputId": "ae20aa08-c53d-4b83-9380-ce90ad65237b"
      },
      "id": "w7T8aNuZwMbc",
      "execution_count": 70,
      "outputs": [
        {
          "output_type": "stream",
          "name": "stdout",
          "text": [
            "class\n"
          ]
        }
      ]
    },
    {
      "cell_type": "markdown",
      "id": "f30162d2",
      "metadata": {
        "id": "f30162d2"
      },
      "source": [
        "#### 64. Consider a given vector, how to add 1 to each element indexed by a second vector (be careful with repeated indices)? (★★★)"
      ]
    },
    {
      "cell_type": "code",
      "execution_count": 71,
      "id": "093ba36f",
      "metadata": {
        "id": "093ba36f",
        "colab": {
          "base_uri": "https://localhost:8080/"
        },
        "outputId": "5484f5a8-e197-4e51-cb29-7ec5e89a513e"
      },
      "outputs": [
        {
          "output_type": "stream",
          "name": "stdout",
          "text": [
            "[2. 2. 2. 3. 2. 5. 3. 4. 3. 4.]\n"
          ]
        }
      ],
      "source": [
        "array = np.ones(10)\n",
        "n = np.random.randint(0,len(array),20)\n",
        "array += np.bincount(n, minlength=len(array))\n",
        "print(array)"
      ]
    },
    {
      "cell_type": "markdown",
      "id": "f5b1c584",
      "metadata": {
        "id": "f5b1c584"
      },
      "source": [
        "#### 65. How to accumulate elements of a vector (X) to an array (F) based on an index list (I)? (★★★)"
      ]
    },
    {
      "cell_type": "code",
      "execution_count": 72,
      "id": "c9d92a75",
      "metadata": {
        "id": "c9d92a75",
        "colab": {
          "base_uri": "https://localhost:8080/"
        },
        "outputId": "ad99fc27-c38e-48a1-fd9f-00f2f9087dc2"
      },
      "outputs": [
        {
          "output_type": "stream",
          "name": "stdout",
          "text": [
            "[0. 9. 5. 0. 6. 0. 4. 0. 3.]\n"
          ]
        }
      ],
      "source": [
        "X = [2,3,4,5,6,7]\n",
        "I = [1,8,6,2,4,1]\n",
        "F = np.bincount(I,X)\n",
        "print(F)"
      ]
    },
    {
      "cell_type": "markdown",
      "id": "994c452d",
      "metadata": {
        "id": "994c452d"
      },
      "source": [
        "#### 66. Considering a (w,h,3) image of (dtype=ubyte), compute the number of unique colors (★★☆)"
      ]
    },
    {
      "cell_type": "code",
      "execution_count": 73,
      "id": "269cdaea",
      "metadata": {
        "id": "269cdaea",
        "colab": {
          "base_uri": "https://localhost:8080/"
        },
        "outputId": "7b6b696a-905a-484e-c313-74e346f39159"
      },
      "outputs": [
        {
          "output_type": "stream",
          "name": "stdout",
          "text": [
            "64\n"
          ]
        }
      ],
      "source": [
        "w, h = 256, 256\n",
        "I = np.random.randint(0, 4, (h, w, 3)).astype(np.ubyte)\n",
        "colors = np.unique(I.reshape(-1, 3), axis=0)\n",
        "n = len(colors)\n",
        "print(n)"
      ]
    },
    {
      "cell_type": "markdown",
      "id": "4bddeb31",
      "metadata": {
        "id": "4bddeb31"
      },
      "source": [
        "#### 67. Considering a four dimensions array, how to get sum over the last two axis at once? (★★★)"
      ]
    },
    {
      "cell_type": "code",
      "execution_count": 74,
      "id": "32af15f5",
      "metadata": {
        "id": "32af15f5",
        "colab": {
          "base_uri": "https://localhost:8080/"
        },
        "outputId": "35028336-9eba-40c0-8ebb-ffc7d65a437c"
      },
      "outputs": [
        {
          "output_type": "stream",
          "name": "stdout",
          "text": [
            "[[41 68 54 61]\n",
            " [43 73 61 44]\n",
            " [47 48 59 60]]\n"
          ]
        }
      ],
      "source": [
        "array = np.random.randint(0,10,(3,4,3,4))\n",
        "sum = array.sum(axis=(-2,-1))\n",
        "print(sum)"
      ]
    },
    {
      "cell_type": "markdown",
      "id": "c4cf083c",
      "metadata": {
        "id": "c4cf083c"
      },
      "source": [
        "#### 68. Considering a one-dimensional vector D, how to compute means of subsets of D using a vector S of same size describing subset  indices? (★★★)"
      ]
    },
    {
      "cell_type": "code",
      "execution_count": 75,
      "id": "9600a2dd",
      "metadata": {
        "id": "9600a2dd",
        "colab": {
          "base_uri": "https://localhost:8080/"
        },
        "outputId": "a62ee626-1847-4e42-edaa-4d2de305bfaf"
      },
      "outputs": [
        {
          "output_type": "stream",
          "name": "stdout",
          "text": [
            "0    0.587275\n",
            "1    0.372821\n",
            "2    0.423728\n",
            "3    0.622936\n",
            "4    0.545596\n",
            "5    0.340865\n",
            "6    0.630463\n",
            "7    0.370455\n",
            "8    0.479404\n",
            "9    0.625250\n",
            "dtype: float64\n"
          ]
        }
      ],
      "source": [
        "import pandas as pd\n",
        "D = np.random.uniform(0,1,100)\n",
        "S = np.random.randint(0,10,100)\n",
        "print(pd.Series(D).groupby(S).mean())"
      ]
    },
    {
      "cell_type": "markdown",
      "id": "a5e316db",
      "metadata": {
        "id": "a5e316db"
      },
      "source": [
        "#### 69. How to get the diagonal of a dot product? (★★★)"
      ]
    },
    {
      "cell_type": "code",
      "execution_count": 76,
      "id": "94735dbd",
      "metadata": {
        "id": "94735dbd",
        "colab": {
          "base_uri": "https://localhost:8080/"
        },
        "outputId": "36ec9586-056e-4e23-94f2-2d6c45be735f"
      },
      "outputs": [
        {
          "output_type": "execute_result",
          "data": {
            "text/plain": [
              "array([0.82828802, 1.61224676, 1.30381306, 1.54702497, 0.54911926])"
            ]
          },
          "metadata": {},
          "execution_count": 76
        }
      ],
      "source": [
        "A = np.random.uniform(0,1,(5,5))\n",
        "B = np.random.uniform(0,1,(5,5))\n",
        "\n",
        "np.diag(np.dot(A, B))"
      ]
    },
    {
      "cell_type": "markdown",
      "id": "de727a7b",
      "metadata": {
        "id": "de727a7b"
      },
      "source": [
        "#### 70. Consider the vector [1, 2, 3, 4, 5], how to build a new vector with 3 consecutive zeros interleaved between each value? (★★★)"
      ]
    },
    {
      "cell_type": "code",
      "execution_count": 77,
      "id": "982be812",
      "metadata": {
        "id": "982be812",
        "colab": {
          "base_uri": "https://localhost:8080/"
        },
        "outputId": "c986968d-a30f-47c2-af8e-414d0883cfbb"
      },
      "outputs": [
        {
          "output_type": "stream",
          "name": "stdout",
          "text": [
            "[1. 0. 0. 0. 2. 0. 0. 0. 3. 0. 0. 0. 4. 0. 0. 0. 5.]\n"
          ]
        }
      ],
      "source": [
        "array = np.array([1,2,3,4,5])\n",
        "narray = 3\n",
        "array0 = np.zeros(len(array) + (len(array)-1)*(narray))\n",
        "array0[::narray+1] = array\n",
        "print(array0)"
      ]
    },
    {
      "cell_type": "markdown",
      "id": "a9a73d6b",
      "metadata": {
        "id": "a9a73d6b"
      },
      "source": [
        "#### 71. Consider an array of dimension (5,5,3), how to mulitply it by an array with dimensions (5,5)? (★★★)"
      ]
    },
    {
      "cell_type": "code",
      "execution_count": 78,
      "id": "282a90cc",
      "metadata": {
        "id": "282a90cc",
        "colab": {
          "base_uri": "https://localhost:8080/"
        },
        "outputId": "117a7773-e780-4492-b10e-8aa3e55e4d97"
      },
      "outputs": [
        {
          "output_type": "stream",
          "name": "stdout",
          "text": [
            "[[[2. 2. 2.]\n",
            "  [2. 2. 2.]\n",
            "  [2. 2. 2.]\n",
            "  [2. 2. 2.]\n",
            "  [2. 2. 2.]]\n",
            "\n",
            " [[2. 2. 2.]\n",
            "  [2. 2. 2.]\n",
            "  [2. 2. 2.]\n",
            "  [2. 2. 2.]\n",
            "  [2. 2. 2.]]\n",
            "\n",
            " [[2. 2. 2.]\n",
            "  [2. 2. 2.]\n",
            "  [2. 2. 2.]\n",
            "  [2. 2. 2.]\n",
            "  [2. 2. 2.]]\n",
            "\n",
            " [[2. 2. 2.]\n",
            "  [2. 2. 2.]\n",
            "  [2. 2. 2.]\n",
            "  [2. 2. 2.]\n",
            "  [2. 2. 2.]]\n",
            "\n",
            " [[2. 2. 2.]\n",
            "  [2. 2. 2.]\n",
            "  [2. 2. 2.]\n",
            "  [2. 2. 2.]\n",
            "  [2. 2. 2.]]]\n"
          ]
        }
      ],
      "source": [
        "A = np.ones((5,5,3))\n",
        "B = 2*np.ones((5,5))\n",
        "print(A * B[:,:,None])"
      ]
    },
    {
      "cell_type": "markdown",
      "id": "a951c78f",
      "metadata": {
        "id": "a951c78f"
      },
      "source": [
        "#### 72. How to swap two rows of an array? (★★★)"
      ]
    },
    {
      "cell_type": "code",
      "execution_count": 79,
      "id": "e29b3fde",
      "metadata": {
        "id": "e29b3fde",
        "colab": {
          "base_uri": "https://localhost:8080/"
        },
        "outputId": "93b59d75-1167-4807-f011-78e6dc917a4e"
      },
      "outputs": [
        {
          "output_type": "stream",
          "name": "stdout",
          "text": [
            "[[ 5  6  7  8  9]\n",
            " [ 0  1  2  3  4]\n",
            " [10 11 12 13 14]\n",
            " [15 16 17 18 19]\n",
            " [20 21 22 23 24]]\n"
          ]
        }
      ],
      "source": [
        "A = np.arange(25).reshape(5,5)\n",
        "A[[0,1]] = A[[1,0]]\n",
        "print(A)"
      ]
    },
    {
      "cell_type": "markdown",
      "id": "43b639e8",
      "metadata": {
        "id": "43b639e8"
      },
      "source": [
        "#### 73. Consider a set of 10 triplets describing 10 triangles (with shared vertices), find the set of unique line segments composing all the  triangles (★★★)"
      ]
    },
    {
      "cell_type": "code",
      "execution_count": 80,
      "id": "147e1034",
      "metadata": {
        "id": "147e1034",
        "colab": {
          "base_uri": "https://localhost:8080/"
        },
        "outputId": "22a5b76b-a888-40a2-8f5b-669423357efc"
      },
      "outputs": [
        {
          "output_type": "stream",
          "name": "stdout",
          "text": [
            "[( 3, 26) ( 3, 74) ( 5, 23) ( 5, 69) (10, 22) (10, 89) (14, 24) (14, 91)\n",
            " (18, 32) (18, 52) (18, 81) (18, 99) (22, 89) (23, 69) (24, 91) (26, 74)\n",
            " (29, 48) (29, 84) (32, 52) (33, 67) (33, 84) (36, 44) (36, 90) (44, 90)\n",
            " (48, 84) (57, 66) (57, 97) (66, 97) (67, 84) (81, 99)]\n"
          ]
        }
      ],
      "source": [
        "faces = np.random.randint(0,100,(10,3))\n",
        "F = np.roll(faces.repeat(2,axis=1),-1,axis=1)\n",
        "F = F.reshape(len(F)*3,2)\n",
        "F = np.sort(F,axis=1)\n",
        "G = F.view( dtype=[('p0',F.dtype),('p1',F.dtype)] )\n",
        "G = np.unique(G)\n",
        "print(G)"
      ]
    },
    {
      "cell_type": "markdown",
      "id": "d41de585",
      "metadata": {
        "id": "d41de585"
      },
      "source": [
        "#### 74. Given a sorted array C that corresponds to a bincount, how to produce an array A such that np.bincount(A) == C? (★★★)"
      ]
    },
    {
      "cell_type": "code",
      "execution_count": 81,
      "id": "5f5d6e36",
      "metadata": {
        "id": "5f5d6e36",
        "colab": {
          "base_uri": "https://localhost:8080/"
        },
        "outputId": "a691a68a-36b8-4806-c06e-77fd05f4510d"
      },
      "outputs": [
        {
          "output_type": "stream",
          "name": "stdout",
          "text": [
            "[1 1 2 3 4 4 6]\n"
          ]
        }
      ],
      "source": [
        "C = np.bincount([1,1,2,3,4,4,6])\n",
        "A = np.repeat(np.arange(len(C)), C)\n",
        "print(A)"
      ]
    },
    {
      "cell_type": "markdown",
      "id": "b50adf7c",
      "metadata": {
        "id": "b50adf7c"
      },
      "source": [
        "#### 75. How to compute averages using a sliding window over an array? (★★★)"
      ]
    },
    {
      "cell_type": "code",
      "execution_count": 82,
      "id": "e631a9d2",
      "metadata": {
        "id": "e631a9d2",
        "colab": {
          "base_uri": "https://localhost:8080/"
        },
        "outputId": "fbe96bb9-f919-4368-8da0-eb11dc739548"
      },
      "outputs": [
        {
          "output_type": "stream",
          "name": "stdout",
          "text": [
            "[ 1.  2.  3.  4.  5.  6.  7.  8.  9. 10. 11. 12. 13. 14. 15. 16. 17. 18.]\n"
          ]
        }
      ],
      "source": [
        "from numpy.lib.stride_tricks import sliding_window_view\n",
        "\n",
        "Z = np.arange(20)\n",
        "print(sliding_window_view(Z, window_shape=3).mean(axis=-1))"
      ]
    },
    {
      "cell_type": "markdown",
      "id": "1ab4c50d",
      "metadata": {
        "id": "1ab4c50d"
      },
      "source": [
        "#### 76. Consider a one-dimensional array Z, build a two-dimensional array whose first row is (Z[0],Z[1],Z[2]) and each subsequent row is  shifted by 1 (last row should be (Z[-3],Z[-2],Z[-1]) (★★★)"
      ]
    },
    {
      "cell_type": "code",
      "execution_count": 83,
      "id": "3ccfe2c0",
      "metadata": {
        "id": "3ccfe2c0",
        "colab": {
          "base_uri": "https://localhost:8080/"
        },
        "outputId": "6992452b-2822-42d3-f554-13d46f449a62"
      },
      "outputs": [
        {
          "output_type": "stream",
          "name": "stdout",
          "text": [
            "[[0 1 2]\n",
            " [1 2 3]\n",
            " [2 3 4]\n",
            " [3 4 5]\n",
            " [4 5 6]\n",
            " [5 6 7]\n",
            " [6 7 8]\n",
            " [7 8 9]]\n"
          ]
        }
      ],
      "source": [
        "array = np.arange(10)\n",
        "print(sliding_window_view(array, window_shape=3))"
      ]
    },
    {
      "cell_type": "markdown",
      "id": "5b4fe59d",
      "metadata": {
        "id": "5b4fe59d"
      },
      "source": [
        "#### 77. How to negate a boolean, or to change the sign of a float inplace? (★★★)"
      ]
    },
    {
      "cell_type": "code",
      "execution_count": 84,
      "id": "3c2373ff",
      "metadata": {
        "id": "3c2373ff",
        "colab": {
          "base_uri": "https://localhost:8080/"
        },
        "outputId": "9f57cbf0-7cc5-424e-bd34-fa5cdbd44ef8"
      },
      "outputs": [
        {
          "output_type": "execute_result",
          "data": {
            "text/plain": [
              "array([-0.5787088 ,  0.92417273,  0.03641612,  0.87178979, -0.84141666,\n",
              "       -0.84954753,  0.02731071,  0.21952343, -0.46268662,  0.22446243,\n",
              "        0.43412958,  0.97032613,  0.41834019,  0.58168135, -0.51785713,\n",
              "        0.93562428,  0.64956891, -0.72728829, -0.52853811,  0.79478058,\n",
              "       -0.0839051 ,  0.81827012, -0.49449042, -0.80678877,  0.73827937,\n",
              "       -0.31396319,  0.17919458, -0.59193035,  0.08691612,  0.73333642,\n",
              "        0.35446795, -0.84580702, -0.65066238, -0.47196241, -0.20291989,\n",
              "       -0.02432275, -0.79954369, -0.269183  , -0.00653544,  0.89824966,\n",
              "        0.93419189,  0.43777917, -0.06285535, -0.89988286,  0.65290022,\n",
              "        0.16276671, -0.17915773,  0.96468872,  0.94481892, -0.42626911,\n",
              "       -0.25048224, -0.36667388,  0.75111005,  0.59145386,  0.06395944,\n",
              "       -0.17720809, -0.52104472,  0.08560677, -0.72593402,  0.56225223,\n",
              "        0.23651468,  0.8709418 ,  0.63758553,  0.13661586,  0.69825448,\n",
              "        0.71458602,  0.4119125 ,  0.66080438,  0.14613335, -0.11683684,\n",
              "       -0.12206988,  0.16690469,  0.16130636,  0.91070973, -0.82504382,\n",
              "        0.89418457, -0.67166636,  0.85405069,  0.28244641, -0.17451263,\n",
              "        0.97769612,  0.34506713,  0.69739562,  0.93686527, -0.05492021,\n",
              "        0.06840948, -0.98304156, -0.35287051, -0.26341144, -0.55634843,\n",
              "        0.83409281, -0.56638567, -0.47486797, -0.55275109,  0.31514248,\n",
              "        0.29441436, -0.53528289, -0.32794442,  0.60900181, -0.27504077])"
            ]
          },
          "metadata": {},
          "execution_count": 84
        }
      ],
      "source": [
        "array = np.random.randint(0,2,100)\n",
        "np.logical_not(array, out=array)\n",
        "\n",
        "array = np.random.uniform(-1.0,1.0,100)\n",
        "np.negative(array, out=array)"
      ]
    },
    {
      "cell_type": "markdown",
      "id": "119ab5af",
      "metadata": {
        "id": "119ab5af"
      },
      "source": [
        "#### 78. Consider 2 sets of points P0,P1 describing lines (2d) and a point p, how to compute distance from p to each line i (P0[i],P1[i])? (★★★)"
      ]
    },
    {
      "cell_type": "markdown",
      "id": "e5e7f323",
      "metadata": {
        "id": "e5e7f323"
      },
      "source": [
        "#### 79. Consider 2 sets of points P0,P1 describing lines (2d) and a set of points P, how to compute distance from each point j (P[j]) to each line i (P0[i],P1[i])? (★★★)"
      ]
    },
    {
      "cell_type": "markdown",
      "id": "9b9d03eb",
      "metadata": {
        "id": "9b9d03eb"
      },
      "source": [
        "#### 80. Consider an arbitrary array, write a function that extract a subpart with a fixed shape and centered on a given element (pad with a `fill` value when necessary) (★★★)"
      ]
    },
    {
      "cell_type": "markdown",
      "id": "27794913",
      "metadata": {
        "id": "27794913"
      },
      "source": [
        "#### 81. Consider an array Z = [1,2,3,4,5,6,7,8,9,10,11,12,13,14], how to generate an array R = [[1,2,3,4], [2,3,4,5], [3,4,5,6], ..., [11,12,13,14]]? (★★★)"
      ]
    },
    {
      "cell_type": "code",
      "execution_count": 85,
      "id": "f3e7878b",
      "metadata": {
        "id": "f3e7878b",
        "colab": {
          "base_uri": "https://localhost:8080/"
        },
        "outputId": "56bd3578-9521-430b-a030-90b25d986442"
      },
      "outputs": [
        {
          "output_type": "stream",
          "name": "stdout",
          "text": [
            "[[ 1  2  3  4]\n",
            " [ 2  3  4  5]\n",
            " [ 3  4  5  6]\n",
            " [ 4  5  6  7]\n",
            " [ 5  6  7  8]\n",
            " [ 6  7  8  9]\n",
            " [ 7  8  9 10]\n",
            " [ 8  9 10 11]\n",
            " [ 9 10 11 12]\n",
            " [10 11 12 13]\n",
            " [11 12 13 14]]\n"
          ]
        }
      ],
      "source": [
        "array = np.arange(1, 15, dtype=np.uint32)\n",
        "print(sliding_window_view(array, window_shape=4))"
      ]
    },
    {
      "cell_type": "markdown",
      "id": "fae786f5",
      "metadata": {
        "id": "fae786f5"
      },
      "source": [
        "#### 82. Compute a matrix rank (★★★)"
      ]
    },
    {
      "cell_type": "code",
      "execution_count": 86,
      "id": "64b9615b",
      "metadata": {
        "id": "64b9615b",
        "colab": {
          "base_uri": "https://localhost:8080/"
        },
        "outputId": "ff606249-7b74-403f-e866-f471d42e6126"
      },
      "outputs": [
        {
          "output_type": "stream",
          "name": "stdout",
          "text": [
            "10\n"
          ]
        }
      ],
      "source": [
        "array = np.random.uniform(0,1,(10,10))\n",
        "rank = np.linalg.matrix_rank(array)\n",
        "print(rank)"
      ]
    },
    {
      "cell_type": "markdown",
      "id": "c85aa0b9",
      "metadata": {
        "id": "c85aa0b9"
      },
      "source": [
        "#### 83. How to find the most frequent value in an array?"
      ]
    },
    {
      "cell_type": "code",
      "execution_count": 87,
      "id": "056be85b",
      "metadata": {
        "id": "056be85b",
        "colab": {
          "base_uri": "https://localhost:8080/"
        },
        "outputId": "f0597d38-cf19-47bd-9c96-99e1ddfadcdc"
      },
      "outputs": [
        {
          "output_type": "stream",
          "name": "stdout",
          "text": [
            "1\n"
          ]
        }
      ],
      "source": [
        "array = np.random.randint(0,10,50)\n",
        "print(np.bincount(array).argmax())"
      ]
    },
    {
      "cell_type": "markdown",
      "id": "0ff2344d",
      "metadata": {
        "id": "0ff2344d"
      },
      "source": [
        "#### 84. Extract all the contiguous 3x3 blocks from a random 10x10 matrix (★★★)"
      ]
    },
    {
      "cell_type": "code",
      "execution_count": 88,
      "id": "d58b1318",
      "metadata": {
        "id": "d58b1318",
        "colab": {
          "base_uri": "https://localhost:8080/"
        },
        "outputId": "c1143c87-c5f1-4b6a-8960-b1027967087c"
      },
      "outputs": [
        {
          "output_type": "stream",
          "name": "stdout",
          "text": [
            "[[[[1 4 2]\n",
            "   [1 4 4]\n",
            "   [2 0 4]]\n",
            "\n",
            "  [[4 2 2]\n",
            "   [4 4 4]\n",
            "   [0 4 2]]\n",
            "\n",
            "  [[2 2 0]\n",
            "   [4 4 2]\n",
            "   [4 2 1]]\n",
            "\n",
            "  [[2 0 4]\n",
            "   [4 2 3]\n",
            "   [2 1 2]]\n",
            "\n",
            "  [[0 4 2]\n",
            "   [2 3 4]\n",
            "   [1 2 4]]\n",
            "\n",
            "  [[4 2 2]\n",
            "   [3 4 1]\n",
            "   [2 4 4]]\n",
            "\n",
            "  [[2 2 2]\n",
            "   [4 1 2]\n",
            "   [4 4 2]]\n",
            "\n",
            "  [[2 2 3]\n",
            "   [1 2 1]\n",
            "   [4 2 1]]]\n",
            "\n",
            "\n",
            " [[[1 4 4]\n",
            "   [2 0 4]\n",
            "   [1 3 2]]\n",
            "\n",
            "  [[4 4 4]\n",
            "   [0 4 2]\n",
            "   [3 2 0]]\n",
            "\n",
            "  [[4 4 2]\n",
            "   [4 2 1]\n",
            "   [2 0 4]]\n",
            "\n",
            "  [[4 2 3]\n",
            "   [2 1 2]\n",
            "   [0 4 0]]\n",
            "\n",
            "  [[2 3 4]\n",
            "   [1 2 4]\n",
            "   [4 0 3]]\n",
            "\n",
            "  [[3 4 1]\n",
            "   [2 4 4]\n",
            "   [0 3 4]]\n",
            "\n",
            "  [[4 1 2]\n",
            "   [4 4 2]\n",
            "   [3 4 1]]\n",
            "\n",
            "  [[1 2 1]\n",
            "   [4 2 1]\n",
            "   [4 1 3]]]\n",
            "\n",
            "\n",
            " [[[2 0 4]\n",
            "   [1 3 2]\n",
            "   [0 4 1]]\n",
            "\n",
            "  [[0 4 2]\n",
            "   [3 2 0]\n",
            "   [4 1 1]]\n",
            "\n",
            "  [[4 2 1]\n",
            "   [2 0 4]\n",
            "   [1 1 0]]\n",
            "\n",
            "  [[2 1 2]\n",
            "   [0 4 0]\n",
            "   [1 0 2]]\n",
            "\n",
            "  [[1 2 4]\n",
            "   [4 0 3]\n",
            "   [0 2 4]]\n",
            "\n",
            "  [[2 4 4]\n",
            "   [0 3 4]\n",
            "   [2 4 3]]\n",
            "\n",
            "  [[4 4 2]\n",
            "   [3 4 1]\n",
            "   [4 3 1]]\n",
            "\n",
            "  [[4 2 1]\n",
            "   [4 1 3]\n",
            "   [3 1 0]]]\n",
            "\n",
            "\n",
            " [[[1 3 2]\n",
            "   [0 4 1]\n",
            "   [4 1 4]]\n",
            "\n",
            "  [[3 2 0]\n",
            "   [4 1 1]\n",
            "   [1 4 0]]\n",
            "\n",
            "  [[2 0 4]\n",
            "   [1 1 0]\n",
            "   [4 0 3]]\n",
            "\n",
            "  [[0 4 0]\n",
            "   [1 0 2]\n",
            "   [0 3 3]]\n",
            "\n",
            "  [[4 0 3]\n",
            "   [0 2 4]\n",
            "   [3 3 4]]\n",
            "\n",
            "  [[0 3 4]\n",
            "   [2 4 3]\n",
            "   [3 4 4]]\n",
            "\n",
            "  [[3 4 1]\n",
            "   [4 3 1]\n",
            "   [4 4 3]]\n",
            "\n",
            "  [[4 1 3]\n",
            "   [3 1 0]\n",
            "   [4 3 1]]]\n",
            "\n",
            "\n",
            " [[[0 4 1]\n",
            "   [4 1 4]\n",
            "   [3 1 3]]\n",
            "\n",
            "  [[4 1 1]\n",
            "   [1 4 0]\n",
            "   [1 3 3]]\n",
            "\n",
            "  [[1 1 0]\n",
            "   [4 0 3]\n",
            "   [3 3 3]]\n",
            "\n",
            "  [[1 0 2]\n",
            "   [0 3 3]\n",
            "   [3 3 2]]\n",
            "\n",
            "  [[0 2 4]\n",
            "   [3 3 4]\n",
            "   [3 2 1]]\n",
            "\n",
            "  [[2 4 3]\n",
            "   [3 4 4]\n",
            "   [2 1 0]]\n",
            "\n",
            "  [[4 3 1]\n",
            "   [4 4 3]\n",
            "   [1 0 4]]\n",
            "\n",
            "  [[3 1 0]\n",
            "   [4 3 1]\n",
            "   [0 4 2]]]\n",
            "\n",
            "\n",
            " [[[4 1 4]\n",
            "   [3 1 3]\n",
            "   [0 3 0]]\n",
            "\n",
            "  [[1 4 0]\n",
            "   [1 3 3]\n",
            "   [3 0 2]]\n",
            "\n",
            "  [[4 0 3]\n",
            "   [3 3 3]\n",
            "   [0 2 1]]\n",
            "\n",
            "  [[0 3 3]\n",
            "   [3 3 2]\n",
            "   [2 1 2]]\n",
            "\n",
            "  [[3 3 4]\n",
            "   [3 2 1]\n",
            "   [1 2 1]]\n",
            "\n",
            "  [[3 4 4]\n",
            "   [2 1 0]\n",
            "   [2 1 0]]\n",
            "\n",
            "  [[4 4 3]\n",
            "   [1 0 4]\n",
            "   [1 0 1]]\n",
            "\n",
            "  [[4 3 1]\n",
            "   [0 4 2]\n",
            "   [0 1 0]]]\n",
            "\n",
            "\n",
            " [[[3 1 3]\n",
            "   [0 3 0]\n",
            "   [0 4 0]]\n",
            "\n",
            "  [[1 3 3]\n",
            "   [3 0 2]\n",
            "   [4 0 3]]\n",
            "\n",
            "  [[3 3 3]\n",
            "   [0 2 1]\n",
            "   [0 3 2]]\n",
            "\n",
            "  [[3 3 2]\n",
            "   [2 1 2]\n",
            "   [3 2 4]]\n",
            "\n",
            "  [[3 2 1]\n",
            "   [1 2 1]\n",
            "   [2 4 4]]\n",
            "\n",
            "  [[2 1 0]\n",
            "   [2 1 0]\n",
            "   [4 4 0]]\n",
            "\n",
            "  [[1 0 4]\n",
            "   [1 0 1]\n",
            "   [4 0 3]]\n",
            "\n",
            "  [[0 4 2]\n",
            "   [0 1 0]\n",
            "   [0 3 2]]]\n",
            "\n",
            "\n",
            " [[[0 3 0]\n",
            "   [0 4 0]\n",
            "   [4 0 1]]\n",
            "\n",
            "  [[3 0 2]\n",
            "   [4 0 3]\n",
            "   [0 1 3]]\n",
            "\n",
            "  [[0 2 1]\n",
            "   [0 3 2]\n",
            "   [1 3 2]]\n",
            "\n",
            "  [[2 1 2]\n",
            "   [3 2 4]\n",
            "   [3 2 3]]\n",
            "\n",
            "  [[1 2 1]\n",
            "   [2 4 4]\n",
            "   [2 3 2]]\n",
            "\n",
            "  [[2 1 0]\n",
            "   [4 4 0]\n",
            "   [3 2 2]]\n",
            "\n",
            "  [[1 0 1]\n",
            "   [4 0 3]\n",
            "   [2 2 0]]\n",
            "\n",
            "  [[0 1 0]\n",
            "   [0 3 2]\n",
            "   [2 0 0]]]]\n"
          ]
        }
      ],
      "source": [
        "array = np.random.randint(0,5,(10,10))\n",
        "print(sliding_window_view(array, window_shape=(3, 3)))"
      ]
    },
    {
      "cell_type": "markdown",
      "id": "1a18b263",
      "metadata": {
        "id": "1a18b263"
      },
      "source": [
        "#### 85. Create a 2D array subclass such that Z[i,j] == Z[j,i] (★★★)"
      ]
    },
    {
      "cell_type": "markdown",
      "id": "f85f2cad",
      "metadata": {
        "id": "f85f2cad"
      },
      "source": [
        "#### 86. Consider a set of p matrices wich shape (n,n) and a set of p vectors with shape (n,1). How to compute the sum of of the p matrix products at once? (result has shape (n,1)) (★★★)"
      ]
    },
    {
      "cell_type": "code",
      "execution_count": 89,
      "id": "8d230557",
      "metadata": {
        "id": "8d230557",
        "colab": {
          "base_uri": "https://localhost:8080/"
        },
        "outputId": "9a837352-d320-4ce9-a9d4-2c7a68fee565"
      },
      "outputs": [
        {
          "output_type": "stream",
          "name": "stdout",
          "text": [
            "[[200.]\n",
            " [200.]\n",
            " [200.]\n",
            " [200.]\n",
            " [200.]\n",
            " [200.]\n",
            " [200.]\n",
            " [200.]\n",
            " [200.]\n",
            " [200.]\n",
            " [200.]\n",
            " [200.]\n",
            " [200.]\n",
            " [200.]\n",
            " [200.]\n",
            " [200.]\n",
            " [200.]\n",
            " [200.]\n",
            " [200.]\n",
            " [200.]]\n"
          ]
        }
      ],
      "source": [
        "p, n = 10, 20\n",
        "M = np.ones((p,n,n))\n",
        "V = np.ones((p,n,1))\n",
        "S = np.tensordot(M, V, axes=[[0, 2], [0, 1]])\n",
        "print(S)"
      ]
    },
    {
      "cell_type": "markdown",
      "id": "5afb72c8",
      "metadata": {
        "id": "5afb72c8"
      },
      "source": [
        "#### 87. Consider a 16x16 array, how to get the block-sum (block size is 4x4)? (★★★)"
      ]
    },
    {
      "cell_type": "code",
      "execution_count": 90,
      "id": "e86f47a9",
      "metadata": {
        "id": "e86f47a9",
        "colab": {
          "base_uri": "https://localhost:8080/"
        },
        "outputId": "70c92f94-121c-4beb-92c2-8ff4209d3593"
      },
      "outputs": [
        {
          "output_type": "stream",
          "name": "stdout",
          "text": [
            "[[16. 16. 16. 16.]\n",
            " [16. 16. 16. 16.]\n",
            " [16. 16. 16. 16.]\n",
            " [16. 16. 16. 16.]]\n"
          ]
        }
      ],
      "source": [
        "array = np.ones((16,16))\n",
        "k = 4\n",
        "result = np.add.reduceat(np.add.reduceat(array, np.arange(0, array.shape[0], k), axis=0),\n",
        "                                       np.arange(0, array.shape[1], k), axis=1)\n",
        "print(result)"
      ]
    },
    {
      "cell_type": "markdown",
      "id": "6094d37c",
      "metadata": {
        "id": "6094d37c"
      },
      "source": [
        "#### 88. How to implement the Game of Life using numpy arrays? (★★★)"
      ]
    },
    {
      "cell_type": "markdown",
      "id": "a173cf96",
      "metadata": {
        "id": "a173cf96"
      },
      "source": [
        "#### 89. How to get the n largest values of an array (★★★)"
      ]
    },
    {
      "cell_type": "code",
      "execution_count": 91,
      "id": "b7c2ff35",
      "metadata": {
        "id": "b7c2ff35",
        "colab": {
          "base_uri": "https://localhost:8080/"
        },
        "outputId": "5f35517c-dc67-4ec8-e331-bac173d5432e"
      },
      "outputs": [
        {
          "output_type": "stream",
          "name": "stdout",
          "text": [
            "[9995 9996 9997 9998 9999]\n"
          ]
        }
      ],
      "source": [
        "array = np.arange(10000)\n",
        "np.random.shuffle(array)\n",
        "n = 5\n",
        "\n",
        "print(array[np.argsort(array)[-n:]])"
      ]
    },
    {
      "cell_type": "markdown",
      "id": "15db2d01",
      "metadata": {
        "id": "15db2d01"
      },
      "source": [
        "#### 90. Given an arbitrary number of vectors, build the cartesian product (every combinations of every item) (★★★)"
      ]
    },
    {
      "cell_type": "markdown",
      "id": "5d94d1ef",
      "metadata": {
        "id": "5d94d1ef"
      },
      "source": [
        "#### 91. How to create a record array from a regular array? (★★★)"
      ]
    },
    {
      "cell_type": "code",
      "execution_count": 92,
      "id": "b1dae380",
      "metadata": {
        "id": "b1dae380",
        "colab": {
          "base_uri": "https://localhost:8080/"
        },
        "outputId": "893ab3b2-1dec-4889-85e9-f332488fea9f"
      },
      "outputs": [
        {
          "output_type": "stream",
          "name": "stdout",
          "text": [
            "[(b'Cadeira', 4.9, 10) (b'PC', 3.4,  7)]\n"
          ]
        }
      ],
      "source": [
        "array = np.array([(\"Cadeira\", 4.9, 10),\n",
        "              (\"PC\", 3.4, 7)])\n",
        "array2 = np.core.records.fromarrays(array.T,\n",
        "                               names='col1, col2, col3',\n",
        "                               formats = 'S8, f8, i8')\n",
        "print(array2)"
      ]
    },
    {
      "cell_type": "markdown",
      "id": "114ccc36",
      "metadata": {
        "id": "114ccc36"
      },
      "source": [
        "#### 92. Consider a large vector Z, compute Z to the power of 3 using 3 different methods (★★★)"
      ]
    },
    {
      "cell_type": "code",
      "execution_count": 93,
      "id": "877c65d6",
      "metadata": {
        "id": "877c65d6",
        "colab": {
          "base_uri": "https://localhost:8080/"
        },
        "outputId": "df2f1657-2515-4b41-c18f-0aef0e432012"
      },
      "outputs": [
        {
          "output_type": "stream",
          "name": "stdout",
          "text": [
            "4.36 s ± 1.28 s per loop (mean ± std. dev. of 7 runs, 1 loop each)\n",
            "139 ms ± 1.38 ms per loop (mean ± std. dev. of 7 runs, 10 loops each)\n",
            "119 ms ± 1.48 ms per loop (mean ± std. dev. of 7 runs, 10 loops each)\n"
          ]
        }
      ],
      "source": [
        "Z = np.random.rand(int(5e7))\n",
        "\n",
        "%timeit np.power(Z,3)\n",
        "%timeit Z*Z*Z\n",
        "%timeit np.einsum('i,i,i->i',Z,Z,Z)"
      ]
    },
    {
      "cell_type": "markdown",
      "id": "d614fee4",
      "metadata": {
        "id": "d614fee4"
      },
      "source": [
        "#### 93. Consider two arrays A and B of shape (8,3) and (2,2). How to find rows of A that contain elements of each row of B regardless of the order of the elements in B? (★★★)"
      ]
    },
    {
      "cell_type": "code",
      "execution_count": 94,
      "id": "e6807a84",
      "metadata": {
        "id": "e6807a84",
        "colab": {
          "base_uri": "https://localhost:8080/"
        },
        "outputId": "42b6daea-965b-457f-8425-c9d834f4f197"
      },
      "outputs": [
        {
          "output_type": "stream",
          "name": "stdout",
          "text": [
            "[0 1 2 5 6 7]\n"
          ]
        }
      ],
      "source": [
        "A = np.random.randint(0,5,(8,3))\n",
        "B = np.random.randint(0,5,(2,2))\n",
        "\n",
        "C = (A[..., np.newaxis, np.newaxis] == B)\n",
        "rows = np.where(C.any((3,1)).all(1))[0]\n",
        "print(rows)"
      ]
    },
    {
      "cell_type": "markdown",
      "id": "b0eedca6",
      "metadata": {
        "id": "b0eedca6"
      },
      "source": [
        "#### 94. Considering a 10x3 matrix, extract rows with unequal values (e.g. [2,2,3]) (★★★)"
      ]
    },
    {
      "cell_type": "code",
      "execution_count": 95,
      "id": "fc136ce2",
      "metadata": {
        "id": "fc136ce2",
        "colab": {
          "base_uri": "https://localhost:8080/"
        },
        "outputId": "df1e48f4-cc79-4db7-b34b-ca10d834a3db"
      },
      "outputs": [
        {
          "output_type": "stream",
          "name": "stdout",
          "text": [
            "[[1 4 1]\n",
            " [0 3 3]\n",
            " [3 4 1]\n",
            " [0 2 2]\n",
            " [3 2 3]\n",
            " [0 2 2]\n",
            " [4 3 1]\n",
            " [1 4 2]\n",
            " [0 4 1]\n",
            " [3 4 4]] \n",
            "\n",
            "[[1 4 1]\n",
            " [0 3 3]\n",
            " [3 4 1]\n",
            " [0 2 2]\n",
            " [3 2 3]\n",
            " [0 2 2]\n",
            " [4 3 1]\n",
            " [1 4 2]\n",
            " [0 4 1]\n",
            " [3 4 4]]\n"
          ]
        }
      ],
      "source": [
        "array = np.random.randint(0,5,(10,3))\n",
        "print(array, \"\\n\")\n",
        "X = np.all(array[:,1:] == array[:,:-1], axis=1)\n",
        "result = array[~X]\n",
        "print(result)"
      ]
    },
    {
      "cell_type": "markdown",
      "id": "a65ec1cf",
      "metadata": {
        "id": "a65ec1cf"
      },
      "source": [
        "#### 95. Convert a vector of ints into a matrix binary representation (★★★)"
      ]
    },
    {
      "cell_type": "code",
      "execution_count": 96,
      "id": "323cdf4c",
      "metadata": {
        "id": "323cdf4c",
        "colab": {
          "base_uri": "https://localhost:8080/"
        },
        "outputId": "cf43cbd8-e739-431c-8f29-bf4871229628"
      },
      "outputs": [
        {
          "output_type": "stream",
          "name": "stdout",
          "text": [
            "[[0 0 0 0 0 0 0 0]\n",
            " [0 0 0 0 0 0 0 1]\n",
            " [0 0 0 0 0 0 1 0]\n",
            " [0 0 0 0 0 0 1 1]\n",
            " [0 0 0 0 1 1 1 1]\n",
            " [0 0 0 1 0 0 0 0]\n",
            " [0 0 1 0 0 0 0 0]\n",
            " [0 1 0 0 0 0 0 0]\n",
            " [1 0 0 0 0 0 0 0]]\n"
          ]
        }
      ],
      "source": [
        "vectorInts = np.array([0, 1, 2, 3, 15, 16, 32, 64, 128])\n",
        "matrix = ((vectorInts.reshape(-1,1) & (2**np.arange(8))) != 0).astype(int)\n",
        "print(matrix[:,::-1])"
      ]
    },
    {
      "cell_type": "markdown",
      "id": "75b9397f",
      "metadata": {
        "id": "75b9397f"
      },
      "source": [
        "#### 96. Given a two dimensional array, how to extract unique rows? (★★★)"
      ]
    },
    {
      "cell_type": "code",
      "execution_count": 97,
      "id": "9bb56a47",
      "metadata": {
        "id": "9bb56a47",
        "colab": {
          "base_uri": "https://localhost:8080/"
        },
        "outputId": "bfeddfb4-f0f3-4454-b0b1-1981873dea35"
      },
      "outputs": [
        {
          "output_type": "stream",
          "name": "stdout",
          "text": [
            "[[0 0 0]\n",
            " [0 1 0]\n",
            " [1 0 0]\n",
            " [1 1 0]]\n"
          ]
        }
      ],
      "source": [
        "array = np.random.randint(0,2,(6,3))\n",
        "rasult = np.unique(array, axis=0)\n",
        "print(rasult)"
      ]
    },
    {
      "cell_type": "markdown",
      "id": "82aaf21b",
      "metadata": {
        "id": "82aaf21b"
      },
      "source": [
        "#### 97. Considering 2 vectors A & B, write the einsum equivalent of inner, outer, sum, and mul function (★★★)"
      ]
    },
    {
      "cell_type": "code",
      "execution_count": 98,
      "id": "cedcefd9",
      "metadata": {
        "id": "cedcefd9",
        "colab": {
          "base_uri": "https://localhost:8080/"
        },
        "outputId": "20af6ea1-46ed-40c3-8dec-ad88151c8372"
      },
      "outputs": [
        {
          "output_type": "execute_result",
          "data": {
            "text/plain": [
              "array([[0.45736916, 0.19776852, 0.78367803, 0.11235543, 0.61017937,\n",
              "        0.86765945, 0.32616401, 0.16343139, 0.42731289, 0.31730877],\n",
              "       [0.35105663, 0.1517985 , 0.60151709, 0.08623913, 0.46834708,\n",
              "        0.66597757, 0.25034927, 0.12544281, 0.32798675, 0.24355238],\n",
              "       [0.19473651, 0.08420496, 0.33367078, 0.04783817, 0.25979933,\n",
              "        0.369428  , 0.13887259, 0.06958506, 0.18193929, 0.13510225],\n",
              "       [0.21554361, 0.09320204, 0.36932265, 0.05294956, 0.28755822,\n",
              "        0.40890043, 0.15371077, 0.07702004, 0.20137904, 0.14953758],\n",
              "       [0.40342329, 0.17444208, 0.69124462, 0.09910331, 0.53820981,\n",
              "        0.76532058, 0.28769355, 0.14415496, 0.37691211, 0.27988277],\n",
              "       [0.4563218 , 0.19731564, 0.78188344, 0.11209814, 0.60878208,\n",
              "        0.86567254, 0.32541711, 0.16305714, 0.42633436, 0.31658214],\n",
              "       [0.06320259, 0.02732909, 0.10829433, 0.01552609, 0.08431902,\n",
              "        0.11989949, 0.04507171, 0.02258414, 0.0590492 , 0.04384803],\n",
              "       [0.35687732, 0.15431539, 0.61149055, 0.08766902, 0.47611251,\n",
              "        0.67701981, 0.25450019, 0.12752272, 0.33342493, 0.2475906 ],\n",
              "       [0.07547763, 0.03263687, 0.12932696, 0.01854153, 0.10069523,\n",
              "        0.14318604, 0.05382542, 0.02697037, 0.07051758, 0.05236408],\n",
              "       [0.49085321, 0.21224718, 0.8410512 , 0.12058098, 0.65485067,\n",
              "        0.9311809 , 0.35004252, 0.17539623, 0.45859652, 0.34053898]])"
            ]
          },
          "metadata": {},
          "execution_count": 98
        }
      ],
      "source": [
        "A = np.random.uniform(0,1,10)\n",
        "B = np.random.uniform(0,1,10)\n",
        "\n",
        "np.einsum('i->', A)     \n",
        "np.einsum('i,i->i', A, B)\n",
        "np.einsum('i,i', A, B)   \n",
        "np.einsum('i,j->ij', A, B)   "
      ]
    },
    {
      "cell_type": "markdown",
      "id": "7741e17f",
      "metadata": {
        "id": "7741e17f"
      },
      "source": [
        "#### 98. Considering a path described by two vectors (X,Y), how to sample it using equidistant samples (★★★)?"
      ]
    },
    {
      "cell_type": "code",
      "execution_count": 99,
      "id": "0b2432fe",
      "metadata": {
        "id": "0b2432fe"
      },
      "outputs": [],
      "source": [
        "phi = np.arange(0, 10*np.pi, 0.1)\n",
        "a = 1\n",
        "x = a*phi*np.cos(phi)\n",
        "y = a*phi*np.sin(phi)\n",
        "\n",
        "dr = (np.diff(x)**2 + np.diff(y)**2)**.5 \n",
        "r = np.zeros_like(x)\n",
        "r[1:] = np.cumsum(dr)                \n",
        "r_int = np.linspace(0, r.max(), 200) \n",
        "x_int = np.interp(r_int, r, x)       \n",
        "y_int = np.interp(r_int, r, y)"
      ]
    },
    {
      "cell_type": "markdown",
      "id": "340d6f36",
      "metadata": {
        "id": "340d6f36"
      },
      "source": [
        "#### 99. Given an integer n and a 2D array X, select from X the rows which can be interpreted as draws from a multinomial distribution with n degrees, i.e., the rows which only contain integers and which sum to n. (★★★)"
      ]
    },
    {
      "cell_type": "code",
      "execution_count": 100,
      "id": "a75323ae",
      "metadata": {
        "id": "a75323ae",
        "colab": {
          "base_uri": "https://localhost:8080/"
        },
        "outputId": "94ee0792-e887-4380-ea91-aa773af1b72a"
      },
      "outputs": [
        {
          "output_type": "stream",
          "name": "stdout",
          "text": [
            "[[2. 0. 1. 1.]]\n"
          ]
        }
      ],
      "source": [
        "X = np.asarray([[1.0, 0.0, 3.0, 8.0],\n",
        "                [2.0, 0.0, 1.0, 1.0],\n",
        "                [1.5, 2.5, 1.0, 0.0]])\n",
        "n = 4\n",
        "M = np.logical_and.reduce(np.mod(X, 1) == 0, axis=-1)\n",
        "M &= (X.sum(axis=-1) == n)\n",
        "print(X[M])"
      ]
    },
    {
      "cell_type": "markdown",
      "id": "19721849",
      "metadata": {
        "id": "19721849"
      },
      "source": [
        "#### 100. Compute bootstrapped 95% confidence intervals for the mean of a 1D array X (i.e., resample the elements of an array with replacement N times, compute the mean of each sample, and then compute percentiles over the means). (★★★)"
      ]
    },
    {
      "cell_type": "code",
      "execution_count": 101,
      "id": "87309c6f",
      "metadata": {
        "id": "87309c6f",
        "colab": {
          "base_uri": "https://localhost:8080/"
        },
        "outputId": "5a3d1619-30be-4b8d-b5f8-e076e1d7e4f6"
      },
      "outputs": [
        {
          "output_type": "stream",
          "name": "stdout",
          "text": [
            "[-0.10202287  0.25714246]\n"
          ]
        }
      ],
      "source": [
        "X = np.random.randn(100)\n",
        "N = 1000 \n",
        "idx = np.random.randint(0, X.size, (N, X.size))\n",
        "means = X[idx].mean(axis=1)\n",
        "confint = np.percentile(means, [2.5, 97.5])\n",
        "print(confint)"
      ]
    }
  ],
  "metadata": {
    "kernelspec": {
      "display_name": "Python 3 (ipykernel)",
      "language": "python",
      "name": "python3"
    },
    "language_info": {
      "codemirror_mode": {
        "name": "ipython",
        "version": 3
      },
      "file_extension": ".py",
      "mimetype": "text/x-python",
      "name": "python",
      "nbconvert_exporter": "python",
      "pygments_lexer": "ipython3",
      "version": "3.9.7"
    },
    "colab": {
      "provenance": [],
      "collapsed_sections": []
    }
  },
  "nbformat": 4,
  "nbformat_minor": 5
}